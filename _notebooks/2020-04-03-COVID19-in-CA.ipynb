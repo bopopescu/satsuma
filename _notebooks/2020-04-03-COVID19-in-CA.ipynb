{
 "cells": [
  {
   "cell_type": "markdown",
   "metadata": {
    "colab_type": "text",
    "id": "PTaBKGwNUrlE",
    "papermill": {
     "duration": 0.015195,
     "end_time": "2020-04-04T12:09:17.522820",
     "exception": false,
     "start_time": "2020-04-04T12:09:17.507625",
     "status": "completed"
    },
    "tags": []
   },
   "source": [
    "# 🦠 COVID-19 in California\n",
    ">A tracker for number of tests performed and coronavirus deaths in California. Charts are refreshed daily 📊\n",
    "\n",
    "- badges: true\n",
    "- categories: [altair, data vis, covid19]\n",
    "- show_tags: true\n",
    "- image: images/layeredAreaChart.png\n"
   ]
  },
  {
   "cell_type": "markdown",
   "metadata": {
    "colab_type": "text",
    "id": "_wAYhdoMLEfa",
    "papermill": {
     "duration": 0.007913,
     "end_time": "2020-04-04T12:09:17.539308",
     "exception": false,
     "start_time": "2020-04-04T12:09:17.531395",
     "status": "completed"
    },
    "tags": []
   },
   "source": [
    "# 🧪 ELI5: testing\n",
    "I thought I'd begin with a quick overview of how the tests are performed in case anyone's interested. So the way we detect COVID-19 is by running a [PCR](https://en.wikipedia.org/wiki/Polymerase_chain_reaction) (polymerase chain reaction), which is a really common technique in molecular biology. \n",
    "\n",
    "* You start by collecting a sample, like a nose swab, which returns boogers and things. If the virus is present, it's likely that some of it will be trapped there. \n",
    "* Since the coronavirus is a RNA virus, you need to separate the RNA from all the other biological junk in the sample. There are a bunch of different ways you can do this. When I was in college (~5 years ago), we did a [phenol-chloroform](https://en.wikipedia.org/wiki/Acid_guanidinium_thiocyanate-phenol-chloroform_extraction) extraction. What basically happens is that things other than RNA gets destroyed, and in the presence of certain chemicals, stuff gets separated out into kind of like a 3 layer bean dip. You extract your RNA from this, and you end up with a tiny pellet of nucleic acid.\n",
    "* Because you are starting out with RNA, you actually have to do a *reverse transcription* PCR (RT-PCR), to first make complementary DNA (cDNA) from the RNA. Once you have your cDNA template, you can do regular PCR. You just give it some primers (short strands of DNA to give the reaction a starting point), some basic building blocks and an enzyme that assembles all this stuff together for you. Then you run this through a bunch of cycles at a certain temperature, which essentially amounts to Xeroxing your template over and over until you have a ton of copies.\n",
    "* The key part here is that you choose the right primers (essentially fragments of the virus) that will bind to the cDNA of your sample. In other words, if there is no COVID-19 in the sample, then you won't get anything."
   ]
  },
  {
   "cell_type": "code",
   "execution_count": 1,
   "metadata": {
    "colab": {},
    "colab_type": "code",
    "execution": {
     "iopub.execute_input": "2020-04-04T12:09:17.693254Z",
     "iopub.status.busy": "2020-04-04T12:09:17.692702Z",
     "iopub.status.idle": "2020-04-04T12:09:21.504062Z",
     "shell.execute_reply": "2020-04-04T12:09:21.503405Z"
    },
    "id": "AjwJEyoC95C1",
    "papermill": {
     "duration": 3.92864,
     "end_time": "2020-04-04T12:09:21.504185",
     "exception": false,
     "start_time": "2020-04-04T12:09:17.575545",
     "status": "completed"
    },
    "tags": []
   },
   "outputs": [],
   "source": [
    "#hide\n",
    "\n",
    "import requests\n",
    "import pandas as pd\n",
    "import altair as alt\n",
    "import matplotlib.pyplot as plt\n",
    "\n",
    "from IPython.display import HTML\n",
    "%matplotlib inline"
   ]
  },
  {
   "cell_type": "code",
   "execution_count": 2,
   "metadata": {
    "colab": {},
    "colab_type": "code",
    "execution": {
     "iopub.execute_input": "2020-04-04T12:09:21.529690Z",
     "iopub.status.busy": "2020-04-04T12:09:21.527286Z",
     "iopub.status.idle": "2020-04-04T12:09:21.626592Z",
     "shell.execute_reply": "2020-04-04T12:09:21.625599Z"
    },
    "id": "6-tzcyrv-cBu",
    "papermill": {
     "duration": 0.114077,
     "end_time": "2020-04-04T12:09:21.626703",
     "exception": false,
     "start_time": "2020-04-04T12:09:21.512626",
     "status": "completed"
    },
    "tags": []
   },
   "outputs": [],
   "source": [
    "#hide\n",
    "\n",
    "# get states data\n",
    "states_url = 'https://covidtracking.com/api/states/daily'\n",
    "\n",
    "r = requests.get(states_url)\n",
    "states_df = pd.DataFrame(r.json())\n",
    "states_df['date'] = pd.to_datetime(states_df.date, format='%Y%m%d')\n",
    "states_df = states_df[(states_df.state == 'CA') | (states_df.state == 'NY')]\n",
    "\n",
    "CA = states_df[states_df.state == 'CA']\n",
    "NY = states_df[states_df.state == 'NY']"
   ]
  },
  {
   "cell_type": "code",
   "execution_count": 3,
   "metadata": {
    "colab": {},
    "colab_type": "code",
    "execution": {
     "iopub.execute_input": "2020-04-04T12:09:21.665194Z",
     "iopub.status.busy": "2020-04-04T12:09:21.654811Z",
     "iopub.status.idle": "2020-04-04T12:09:21.701704Z",
     "shell.execute_reply": "2020-04-04T12:09:21.700788Z"
    },
    "id": "670j7e-SRZb4",
    "papermill": {
     "duration": 0.067547,
     "end_time": "2020-04-04T12:09:21.701881",
     "exception": false,
     "start_time": "2020-04-04T12:09:21.634334",
     "status": "completed"
    },
    "tags": []
   },
   "outputs": [],
   "source": [
    "#hide\n",
    "\n",
    "# specify colors for categories\n",
    "domain = ['pending', 'positive', 'negative']\n",
    "range_ = ['#f6a4ec', '#5433ff', '#97fbd1']\n",
    "\n",
    "# convert wide-form into long-form\n",
    "area = alt.Chart(CA).transform_fold(\n",
    "    ['pending', 'positive', 'negative']\n",
    ").mark_area(opacity=0.5, interpolate='basis').encode(\n",
    "    alt.X('date:T', axis=alt.Axis(format=('%b %d'))),\n",
    "    alt.Y('value:Q', stack=None),\n",
    "    color=alt.Color('key:N', scale=alt.Scale(domain=domain, range=range_))\n",
    ").properties(\n",
    "    width=700,\n",
    "    title='COVID-19 testing in California since Mar 4'\n",
    ")\n",
    "\n",
    "# create selection that picks the nearest point from the date\n",
    "nearest = alt.selection(type='single', nearest=True, on='mouseover',\n",
    "                        fields=['date'], empty='none')\n",
    "\n",
    "# show the value of the cursor when you move it\n",
    "selectors = alt.Chart(CA).mark_point().encode(\n",
    "    x='date:T',\n",
    "    opacity=alt.value(0),\n",
    ").add_selection(\n",
    "    nearest\n",
    ")\n",
    "\n",
    "# draw points on the area chart\n",
    "points = area.mark_point(fill='#ff4c4d', stroke='#ff4c4d').encode(\n",
    "    opacity=alt.condition(nearest, alt.value(1), alt.value(0))\n",
    ")\n",
    "\n",
    "# create text labels by the points\n",
    "text = area.mark_text(fill='black', align='left', dx=5, dy=-5).encode(\n",
    "    text=alt.condition(nearest, 'value:Q', alt.value(' '))\n",
    ")\n",
    "\n",
    "# draw a line where the cursor is\n",
    "rule = alt.Chart(CA).mark_rule(color='black').encode(\n",
    "    x='date:T',\n",
    ").transform_filter(\n",
    "    nearest\n",
    ")\n",
    "\n",
    "# bind all elements together and customize top-level configurations\n",
    "testChart = alt.layer(area, selectors, points, text, rule).configure_title(\n",
    "    fontSize=25,\n",
    "    color='#7f7f7f',\n",
    "    anchor='start',\n",
    "    dx=10\n",
    ").configure_axis(\n",
    "    grid=False\n",
    ").configure_axisY(\n",
    "    labelPadding=5,\n",
    "    domainOpacity=0,\n",
    "    orient='right',\n",
    "    title=None\n",
    ").configure_axisX(\n",
    "    labelPadding=5,\n",
    "    title=None\n",
    ").configure_view(\n",
    "    strokeWidth=0\n",
    ").configure_legend(\n",
    "    title=None,\n",
    "    labelFontSize=15,\n",
    "    labelColor='#7f7f7f',\n",
    "    symbolType='square',\n",
    "    orient='top',\n",
    "    padding=10\n",
    ")"
   ]
  },
  {
   "cell_type": "markdown",
   "metadata": {
    "colab_type": "text",
    "id": "lM1QMWdSAtiL",
    "papermill": {
     "duration": 0.008101,
     "end_time": "2020-04-04T12:09:21.719860",
     "exception": false,
     "start_time": "2020-04-04T12:09:21.711759",
     "status": "completed"
    },
    "tags": []
   },
   "source": [
    "> Tip: Hover over chart to interact"
   ]
  },
  {
   "cell_type": "code",
   "execution_count": 4,
   "metadata": {
    "colab": {
     "base_uri": "https://localhost:8080/",
     "height": 434
    },
    "colab_type": "code",
    "execution": {
     "iopub.execute_input": "2020-04-04T12:09:21.747047Z",
     "iopub.status.busy": "2020-04-04T12:09:21.740712Z",
     "iopub.status.idle": "2020-04-04T12:09:21.822476Z",
     "shell.execute_reply": "2020-04-04T12:09:21.821899Z"
    },
    "id": "38KH2Krt368q",
    "outputId": "66e8b983-d2d7-44fa-e65d-2e17f9005195",
    "papermill": {
     "duration": 0.095066,
     "end_time": "2020-04-04T12:09:21.822581",
     "exception": false,
     "start_time": "2020-04-04T12:09:21.727515",
     "status": "completed"
    },
    "tags": []
   },
   "outputs": [
    {
     "data": {
      "text/html": [
       "\n",
       "<div id=\"altair-viz-d942294eba7c483b9ffc5c7c1ebd1ea8\"></div>\n",
       "<script type=\"text/javascript\">\n",
       "  (function(spec, embedOpt){\n",
       "    let outputDiv = document.currentScript.previousElementSibling;\n",
       "    if (outputDiv.id !== \"altair-viz-d942294eba7c483b9ffc5c7c1ebd1ea8\") {\n",
       "      outputDiv = document.getElementById(\"altair-viz-d942294eba7c483b9ffc5c7c1ebd1ea8\");\n",
       "    }\n",
       "    const paths = {\n",
       "      \"vega\": \"https://cdn.jsdelivr.net/npm//vega@5?noext\",\n",
       "      \"vega-lib\": \"https://cdn.jsdelivr.net/npm//vega-lib?noext\",\n",
       "      \"vega-lite\": \"https://cdn.jsdelivr.net/npm//vega-lite@4.8.1?noext\",\n",
       "      \"vega-embed\": \"https://cdn.jsdelivr.net/npm//vega-embed@6?noext\",\n",
       "    };\n",
       "\n",
       "    function loadScript(lib) {\n",
       "      return new Promise(function(resolve, reject) {\n",
       "        var s = document.createElement('script');\n",
       "        s.src = paths[lib];\n",
       "        s.async = true;\n",
       "        s.onload = () => resolve(paths[lib]);\n",
       "        s.onerror = () => reject(`Error loading script: ${paths[lib]}`);\n",
       "        document.getElementsByTagName(\"head\")[0].appendChild(s);\n",
       "      });\n",
       "    }\n",
       "\n",
       "    function showError(err) {\n",
       "      outputDiv.innerHTML = `<div class=\"error\" style=\"color:red;\">${err}</div>`;\n",
       "      throw err;\n",
       "    }\n",
       "\n",
       "    function displayChart(vegaEmbed) {\n",
       "      vegaEmbed(outputDiv, spec, embedOpt)\n",
       "        .catch(err => showError(`Javascript Error: ${err.message}<br>This usually means there's a typo in your chart specification. See the javascript console for the full traceback.`));\n",
       "    }\n",
       "\n",
       "    if(typeof define === \"function\" && define.amd) {\n",
       "      requirejs.config({paths});\n",
       "      require([\"vega-embed\"], displayChart, err => showError(`Error loading script: ${err.message}`));\n",
       "    } else if (typeof vegaEmbed === \"function\") {\n",
       "      displayChart(vegaEmbed);\n",
       "    } else {\n",
       "      loadScript(\"vega\")\n",
       "        .then(() => loadScript(\"vega-lite\"))\n",
       "        .then(() => loadScript(\"vega-embed\"))\n",
       "        .catch(showError)\n",
       "        .then(() => displayChart(vegaEmbed));\n",
       "    }\n",
       "  })({\"config\": {\"view\": {\"continuousWidth\": 400, \"continuousHeight\": 300, \"strokeWidth\": 0}, \"axis\": {\"grid\": false}, \"axisX\": {\"labelPadding\": 5, \"title\": null}, \"axisY\": {\"domainOpacity\": 0, \"labelPadding\": 5, \"orient\": \"right\", \"title\": null}, \"legend\": {\"labelColor\": \"#7f7f7f\", \"labelFontSize\": 15, \"orient\": \"top\", \"padding\": 10, \"symbolType\": \"square\", \"title\": null}, \"title\": {\"anchor\": \"start\", \"color\": \"#7f7f7f\", \"dx\": 10, \"fontSize\": 25}}, \"layer\": [{\"mark\": {\"type\": \"area\", \"interpolate\": \"basis\", \"opacity\": 0.5}, \"encoding\": {\"color\": {\"type\": \"nominal\", \"field\": \"key\", \"scale\": {\"domain\": [\"pending\", \"positive\", \"negative\"], \"range\": [\"#f6a4ec\", \"#5433ff\", \"#97fbd1\"]}}, \"x\": {\"type\": \"temporal\", \"axis\": {\"format\": \"%b %d\"}, \"field\": \"date\"}, \"y\": {\"type\": \"quantitative\", \"field\": \"value\", \"stack\": null}}, \"title\": \"COVID-19 testing in California since Mar 4\", \"transform\": [{\"fold\": [\"pending\", \"positive\", \"negative\"]}], \"width\": 700}, {\"mark\": \"point\", \"encoding\": {\"opacity\": {\"value\": 0}, \"x\": {\"type\": \"temporal\", \"field\": \"date\"}}, \"selection\": {\"selector001\": {\"type\": \"single\", \"nearest\": true, \"on\": \"mouseover\", \"fields\": [\"date\"], \"empty\": \"none\"}}}, {\"mark\": {\"type\": \"point\", \"fill\": \"#ff4c4d\", \"stroke\": \"#ff4c4d\"}, \"encoding\": {\"color\": {\"type\": \"nominal\", \"field\": \"key\", \"scale\": {\"domain\": [\"pending\", \"positive\", \"negative\"], \"range\": [\"#f6a4ec\", \"#5433ff\", \"#97fbd1\"]}}, \"opacity\": {\"condition\": {\"value\": 1, \"selection\": \"selector001\"}, \"value\": 0}, \"x\": {\"type\": \"temporal\", \"axis\": {\"format\": \"%b %d\"}, \"field\": \"date\"}, \"y\": {\"type\": \"quantitative\", \"field\": \"value\", \"stack\": null}}, \"title\": \"COVID-19 testing in California since Mar 4\", \"transform\": [{\"fold\": [\"pending\", \"positive\", \"negative\"]}], \"width\": 700}, {\"mark\": {\"type\": \"text\", \"align\": \"left\", \"dx\": 5, \"dy\": -5, \"fill\": \"black\"}, \"encoding\": {\"color\": {\"type\": \"nominal\", \"field\": \"key\", \"scale\": {\"domain\": [\"pending\", \"positive\", \"negative\"], \"range\": [\"#f6a4ec\", \"#5433ff\", \"#97fbd1\"]}}, \"text\": {\"condition\": {\"type\": \"quantitative\", \"field\": \"value\", \"selection\": \"selector001\"}, \"value\": \" \"}, \"x\": {\"type\": \"temporal\", \"axis\": {\"format\": \"%b %d\"}, \"field\": \"date\"}, \"y\": {\"type\": \"quantitative\", \"field\": \"value\", \"stack\": null}}, \"title\": \"COVID-19 testing in California since Mar 4\", \"transform\": [{\"fold\": [\"pending\", \"positive\", \"negative\"]}], \"width\": 700}, {\"mark\": {\"type\": \"rule\", \"color\": \"black\"}, \"encoding\": {\"x\": {\"type\": \"temporal\", \"field\": \"date\"}}, \"transform\": [{\"filter\": {\"selection\": \"selector001\"}}]}], \"data\": {\"name\": \"data-0c3b0f92d16d93a7e0ceede4d4aa5ec7\"}, \"$schema\": \"https://vega.github.io/schema/vega-lite/v4.8.1.json\", \"datasets\": {\"data-0c3b0f92d16d93a7e0ceede4d4aa5ec7\": [{\"date\": \"2020-04-03T00:00:00\", \"state\": \"CA\", \"positive\": 10701.0, \"negative\": 24599.0, \"pending\": 59500.0, \"hospitalizedCurrently\": 2188.0, \"hospitalizedCumulative\": null, \"inIcuCurrently\": 901.0, \"inIcuCumulative\": null, \"onVentilatorCurrently\": null, \"onVentilatorCumulative\": null, \"recovered\": null, \"hash\": \"67f105bfa3690e07b85e362a0c6c43aa796aba45\", \"dateChecked\": \"2020-04-03T20:00:00Z\", \"death\": 237.0, \"hospitalized\": null, \"total\": 94800, \"totalTestResults\": 35300, \"posNeg\": 35300, \"fips\": \"06\", \"deathIncrease\": 34.0, \"hospitalizedIncrease\": 0.0, \"negativeIncrease\": 790.0, \"positiveIncrease\": 1510.0, \"totalTestResultsIncrease\": 2300.0}, {\"date\": \"2020-04-02T00:00:00\", \"state\": \"CA\", \"positive\": 9191.0, \"negative\": 23809.0, \"pending\": 59500.0, \"hospitalizedCurrently\": 1922.0, \"hospitalizedCumulative\": null, \"inIcuCurrently\": 816.0, \"inIcuCumulative\": null, \"onVentilatorCurrently\": null, \"onVentilatorCumulative\": null, \"recovered\": null, \"hash\": \"99877fe91b05bb13daef3f63c02c50d2a271e7f5\", \"dateChecked\": \"2020-04-02T20:00:00Z\", \"death\": 203.0, \"hospitalized\": null, \"total\": 92500, \"totalTestResults\": 33000, \"posNeg\": 33000, \"fips\": \"06\", \"deathIncrease\": 32.0, \"hospitalizedIncrease\": 0.0, \"negativeIncrease\": 2037.0, \"positiveIncrease\": 1036.0, \"totalTestResultsIncrease\": 3073.0}, {\"date\": \"2020-04-01T00:00:00\", \"state\": \"CA\", \"positive\": 8155.0, \"negative\": 21772.0, \"pending\": 57400.0, \"hospitalizedCurrently\": 1855.0, \"hospitalizedCumulative\": 1855.0, \"inIcuCurrently\": 774.0, \"inIcuCumulative\": 774.0, \"onVentilatorCurrently\": null, \"onVentilatorCumulative\": null, \"recovered\": null, \"hash\": \"6fb93efce94c15c30e753005c45c7b45e390198c\", \"dateChecked\": \"2020-04-01T20:00:00Z\", \"death\": 171.0, \"hospitalized\": 1855.0, \"total\": 87327, \"totalTestResults\": 29927, \"posNeg\": 29927, \"fips\": \"06\", \"deathIncrease\": 18.0, \"hospitalizedIncrease\": 238.0, \"negativeIncrease\": 0.0, \"positiveIncrease\": 673.0, \"totalTestResultsIncrease\": 673.0}, {\"date\": \"2020-03-31T00:00:00\", \"state\": \"CA\", \"positive\": 7482.0, \"negative\": 21772.0, \"pending\": 57400.0, \"hospitalizedCurrently\": 1617.0, \"hospitalizedCumulative\": 1617.0, \"inIcuCurrently\": 657.0, \"inIcuCumulative\": 657.0, \"onVentilatorCurrently\": null, \"onVentilatorCumulative\": null, \"recovered\": null, \"hash\": \"8aa120a4c2d14e4da8b37e1148edb1eec68c9797\", \"dateChecked\": \"2020-03-31T20:00:00Z\", \"death\": 153.0, \"hospitalized\": 1617.0, \"total\": 86654, \"totalTestResults\": 29254, \"posNeg\": 29254, \"fips\": \"06\", \"deathIncrease\": 20.0, \"hospitalizedIncrease\": 185.0, \"negativeIncrease\": 1223.0, \"positiveIncrease\": 1035.0, \"totalTestResultsIncrease\": 2258.0}, {\"date\": \"2020-03-30T00:00:00\", \"state\": \"CA\", \"positive\": 6447.0, \"negative\": 20549.0, \"pending\": 64400.0, \"hospitalizedCurrently\": 1432.0, \"hospitalizedCumulative\": 1432.0, \"inIcuCurrently\": 597.0, \"inIcuCumulative\": 597.0, \"onVentilatorCurrently\": null, \"onVentilatorCumulative\": null, \"recovered\": null, \"hash\": \"b2fd37c8b374d544e8f30c2b619be88799980737\", \"dateChecked\": \"2020-03-30T20:00:00Z\", \"death\": 133.0, \"hospitalized\": 1432.0, \"total\": 91396, \"totalTestResults\": 26996, \"posNeg\": 26996, \"fips\": \"06\", \"deathIncrease\": 10.0, \"hospitalizedIncrease\": 398.0, \"negativeIncrease\": 0.0, \"positiveIncrease\": 739.0, \"totalTestResultsIncrease\": 739.0}, {\"date\": \"2020-03-29T00:00:00\", \"state\": \"CA\", \"positive\": 5708.0, \"negative\": 20549.0, \"pending\": 64400.0, \"hospitalizedCurrently\": 1034.0, \"hospitalizedCumulative\": 1034.0, \"inIcuCurrently\": 410.0, \"inIcuCumulative\": 410.0, \"onVentilatorCurrently\": null, \"onVentilatorCumulative\": null, \"recovered\": null, \"hash\": \"1b6fd0782f7e0f6178ea2f83a468c5d2471cc0d7\", \"dateChecked\": \"2020-03-29T20:00:00Z\", \"death\": 123.0, \"hospitalized\": 1034.0, \"total\": 90657, \"totalTestResults\": 26257, \"posNeg\": 26257, \"fips\": \"06\", \"deathIncrease\": 22.0, \"hospitalizedIncrease\": 0.0, \"negativeIncrease\": 0.0, \"positiveIncrease\": 1065.0, \"totalTestResultsIncrease\": 1065.0}, {\"date\": \"2020-03-28T00:00:00\", \"state\": \"CA\", \"positive\": 4643.0, \"negative\": 20549.0, \"pending\": 64400.0, \"hospitalizedCurrently\": 1034.0, \"hospitalizedCumulative\": 1034.0, \"inIcuCurrently\": 410.0, \"inIcuCumulative\": 410.0, \"onVentilatorCurrently\": null, \"onVentilatorCumulative\": null, \"recovered\": null, \"hash\": \"8c30beb89dd131ed8a1aacaa4d70b47e58810777\", \"dateChecked\": \"2020-03-28T20:00:00Z\", \"death\": 101.0, \"hospitalized\": 1034.0, \"total\": 89592, \"totalTestResults\": 25192, \"posNeg\": 25192, \"fips\": \"06\", \"deathIncrease\": 23.0, \"hospitalizedIncrease\": 288.0, \"negativeIncrease\": 3169.0, \"positiveIncrease\": 764.0, \"totalTestResultsIncrease\": 3933.0}, {\"date\": \"2020-03-27T00:00:00\", \"state\": \"CA\", \"positive\": 3879.0, \"negative\": 17380.0, \"pending\": 57400.0, \"hospitalizedCurrently\": 746.0, \"hospitalizedCumulative\": 746.0, \"inIcuCurrently\": 200.0, \"inIcuCumulative\": 200.0, \"onVentilatorCurrently\": null, \"onVentilatorCumulative\": null, \"recovered\": null, \"hash\": \"10bb2a3981dc15348851c537abdb117a3e09d2a3\", \"dateChecked\": \"2020-03-27T20:00:00Z\", \"death\": 78.0, \"hospitalized\": 746.0, \"total\": 78659, \"totalTestResults\": 21259, \"posNeg\": 21259, \"fips\": \"06\", \"deathIncrease\": 13.0, \"hospitalizedIncrease\": 746.0, \"negativeIncrease\": 0.0, \"positiveIncrease\": 873.0, \"totalTestResultsIncrease\": 873.0}, {\"date\": \"2020-03-26T00:00:00\", \"state\": \"CA\", \"positive\": 3006.0, \"negative\": 17380.0, \"pending\": 57400.0, \"hospitalizedCurrently\": null, \"hospitalizedCumulative\": null, \"inIcuCurrently\": null, \"inIcuCumulative\": null, \"onVentilatorCurrently\": null, \"onVentilatorCumulative\": null, \"recovered\": null, \"hash\": \"d073989819811eaa4edd1a4f71a3716c44b653ac\", \"dateChecked\": \"2020-03-26T20:00:00Z\", \"death\": 65.0, \"hospitalized\": null, \"total\": 77786, \"totalTestResults\": 20386, \"posNeg\": 20386, \"fips\": \"06\", \"deathIncrease\": 12.0, \"hospitalizedIncrease\": 0.0, \"negativeIncrease\": 1459.0, \"positiveIncrease\": 651.0, \"totalTestResultsIncrease\": 2110.0}, {\"date\": \"2020-03-25T00:00:00\", \"state\": \"CA\", \"positive\": 2355.0, \"negative\": 15921.0, \"pending\": 48600.0, \"hospitalizedCurrently\": null, \"hospitalizedCumulative\": null, \"inIcuCurrently\": null, \"inIcuCumulative\": null, \"onVentilatorCurrently\": null, \"onVentilatorCumulative\": null, \"recovered\": null, \"hash\": \"8d9cf944b6bf56c413644ce7729ef18efa3d75a0\", \"dateChecked\": \"2020-03-25T20:00:00Z\", \"death\": 53.0, \"hospitalized\": null, \"total\": 66876, \"totalTestResults\": 18276, \"posNeg\": 18276, \"fips\": \"06\", \"deathIncrease\": 13.0, \"hospitalizedIncrease\": 0.0, \"negativeIncrease\": 2469.0, \"positiveIncrease\": 253.0, \"totalTestResultsIncrease\": 2722.0}, {\"date\": \"2020-03-24T00:00:00\", \"state\": \"CA\", \"positive\": 2102.0, \"negative\": 13452.0, \"pending\": 12100.0, \"hospitalizedCurrently\": null, \"hospitalizedCumulative\": null, \"inIcuCurrently\": null, \"inIcuCumulative\": null, \"onVentilatorCurrently\": null, \"onVentilatorCumulative\": null, \"recovered\": null, \"hash\": \"de4019ee1e7e99d093947ecd2a91c6093439f221\", \"dateChecked\": \"2020-03-24T20:00:00Z\", \"death\": 40.0, \"hospitalized\": null, \"total\": 27654, \"totalTestResults\": 15554, \"posNeg\": 15554, \"fips\": \"06\", \"deathIncrease\": 13.0, \"hospitalizedIncrease\": 0.0, \"negativeIncrease\": 885.0, \"positiveIncrease\": 369.0, \"totalTestResultsIncrease\": 1254.0}, {\"date\": \"2020-03-23T00:00:00\", \"state\": \"CA\", \"positive\": 1733.0, \"negative\": 12567.0, \"pending\": 12100.0, \"hospitalizedCurrently\": null, \"hospitalizedCumulative\": null, \"inIcuCurrently\": null, \"inIcuCumulative\": null, \"onVentilatorCurrently\": null, \"onVentilatorCumulative\": null, \"recovered\": null, \"hash\": \"71c982ee815f7305f8cc4c93014774584620fa5f\", \"dateChecked\": \"2020-03-23T20:00:00Z\", \"death\": 27.0, \"hospitalized\": null, \"total\": 26400, \"totalTestResults\": 14300, \"posNeg\": 14300, \"fips\": \"06\", \"deathIncrease\": 0.0, \"hospitalizedIncrease\": 0.0, \"negativeIncrease\": 1263.0, \"positiveIncrease\": 197.0, \"totalTestResultsIncrease\": 1460.0}, {\"date\": \"2020-03-22T00:00:00\", \"state\": \"CA\", \"positive\": 1536.0, \"negative\": 11304.0, \"pending\": null, \"hospitalizedCurrently\": null, \"hospitalizedCumulative\": null, \"inIcuCurrently\": null, \"inIcuCumulative\": null, \"onVentilatorCurrently\": null, \"onVentilatorCumulative\": null, \"recovered\": null, \"hash\": \"894c0795f019e9dad5fb2ea4b76464bd93ca011e\", \"dateChecked\": \"2020-03-22T20:00:00Z\", \"death\": 27.0, \"hospitalized\": null, \"total\": 12840, \"totalTestResults\": 12840, \"posNeg\": 12840, \"fips\": \"06\", \"deathIncrease\": 3.0, \"hospitalizedIncrease\": 0.0, \"negativeIncrease\": 55.0, \"positiveIncrease\": 257.0, \"totalTestResultsIncrease\": 312.0}, {\"date\": \"2020-03-21T00:00:00\", \"state\": \"CA\", \"positive\": 1279.0, \"negative\": 11249.0, \"pending\": null, \"hospitalizedCurrently\": null, \"hospitalizedCumulative\": null, \"inIcuCurrently\": null, \"inIcuCumulative\": null, \"onVentilatorCurrently\": null, \"onVentilatorCumulative\": null, \"recovered\": null, \"hash\": \"49c4e45a8661e84906ca87575ab8d30e7c494b6c\", \"dateChecked\": \"2020-03-21T20:00:00Z\", \"death\": 24.0, \"hospitalized\": null, \"total\": 12528, \"totalTestResults\": 12528, \"posNeg\": 12528, \"fips\": \"06\", \"deathIncrease\": 4.0, \"hospitalizedIncrease\": 0.0, \"negativeIncrease\": 825.0, \"positiveIncrease\": 216.0, \"totalTestResultsIncrease\": 1041.0}, {\"date\": \"2020-03-20T00:00:00\", \"state\": \"CA\", \"positive\": 1063.0, \"negative\": 10424.0, \"pending\": null, \"hospitalizedCurrently\": null, \"hospitalizedCumulative\": null, \"inIcuCurrently\": null, \"inIcuCumulative\": null, \"onVentilatorCurrently\": null, \"onVentilatorCumulative\": null, \"recovered\": null, \"hash\": \"22cfcbb820f66309386b4bdfdf47a806dd894a62\", \"dateChecked\": \"2020-03-20T20:00:00Z\", \"death\": 20.0, \"hospitalized\": null, \"total\": 11487, \"totalTestResults\": 11487, \"posNeg\": 11487, \"fips\": \"06\", \"deathIncrease\": 2.0, \"hospitalizedIncrease\": 0.0, \"negativeIncrease\": 1637.0, \"positiveIncrease\": 139.0, \"totalTestResultsIncrease\": 1776.0}, {\"date\": \"2020-03-19T00:00:00\", \"state\": \"CA\", \"positive\": 924.0, \"negative\": 8787.0, \"pending\": null, \"hospitalizedCurrently\": null, \"hospitalizedCumulative\": null, \"inIcuCurrently\": null, \"inIcuCumulative\": null, \"onVentilatorCurrently\": null, \"onVentilatorCumulative\": null, \"recovered\": null, \"hash\": \"b9c67f8fde621d5bb8895c6a6fcbdcf8440ccf2a\", \"dateChecked\": \"2020-03-19T20:00:00Z\", \"death\": 18.0, \"hospitalized\": null, \"total\": 9711, \"totalTestResults\": 9711, \"posNeg\": 9711, \"fips\": \"06\", \"deathIncrease\": 5.0, \"hospitalizedIncrease\": 0.0, \"negativeIncrease\": 806.0, \"positiveIncrease\": 313.0, \"totalTestResultsIncrease\": 1119.0}, {\"date\": \"2020-03-18T00:00:00\", \"state\": \"CA\", \"positive\": 611.0, \"negative\": 7981.0, \"pending\": null, \"hospitalizedCurrently\": null, \"hospitalizedCumulative\": null, \"inIcuCurrently\": null, \"inIcuCumulative\": null, \"onVentilatorCurrently\": null, \"onVentilatorCumulative\": null, \"recovered\": null, \"hash\": \"646da42647f99037e2c2b31faf21a04c5b5ff197\", \"dateChecked\": \"2020-03-18T20:00:00Z\", \"death\": 13.0, \"hospitalized\": null, \"total\": 8592, \"totalTestResults\": 8592, \"posNeg\": 8592, \"fips\": \"06\", \"deathIncrease\": 2.0, \"hospitalizedIncrease\": 0.0, \"negativeIncrease\": 0.0, \"positiveIncrease\": 128.0, \"totalTestResultsIncrease\": 128.0}, {\"date\": \"2020-03-17T00:00:00\", \"state\": \"CA\", \"positive\": 483.0, \"negative\": 7981.0, \"pending\": null, \"hospitalizedCurrently\": null, \"hospitalizedCumulative\": null, \"inIcuCurrently\": null, \"inIcuCumulative\": null, \"onVentilatorCurrently\": null, \"onVentilatorCumulative\": null, \"recovered\": null, \"hash\": \"3a5a29b79b4583de68455525d065127db6a3e97b\", \"dateChecked\": \"2020-03-17T20:00:00Z\", \"death\": 11.0, \"hospitalized\": null, \"total\": 8464, \"totalTestResults\": 8464, \"posNeg\": 8464, \"fips\": \"06\", \"deathIncrease\": 5.0, \"hospitalizedIncrease\": 0.0, \"negativeIncrease\": 0.0, \"positiveIncrease\": 148.0, \"totalTestResultsIncrease\": 148.0}, {\"date\": \"2020-03-16T00:00:00\", \"state\": \"CA\", \"positive\": 335.0, \"negative\": 7981.0, \"pending\": null, \"hospitalizedCurrently\": null, \"hospitalizedCumulative\": null, \"inIcuCurrently\": null, \"inIcuCumulative\": null, \"onVentilatorCurrently\": null, \"onVentilatorCumulative\": null, \"recovered\": null, \"hash\": \"ae22555d7ccc020a6fc6268f759c981a681af584\", \"dateChecked\": \"2020-03-16T20:00:00Z\", \"death\": 6.0, \"hospitalized\": null, \"total\": 8316, \"totalTestResults\": 8316, \"posNeg\": 8316, \"fips\": \"06\", \"deathIncrease\": 1.0, \"hospitalizedIncrease\": 0.0, \"negativeIncrease\": 7065.0, \"positiveIncrease\": 42.0, \"totalTestResultsIncrease\": 7107.0}, {\"date\": \"2020-03-15T00:00:00\", \"state\": \"CA\", \"positive\": 293.0, \"negative\": 916.0, \"pending\": null, \"hospitalizedCurrently\": null, \"hospitalizedCumulative\": null, \"inIcuCurrently\": null, \"inIcuCumulative\": null, \"onVentilatorCurrently\": null, \"onVentilatorCumulative\": null, \"recovered\": null, \"hash\": \"5e5e85687553cddbfc767524eedc40d04efeb98a\", \"dateChecked\": \"2020-03-15T20:00:00Z\", \"death\": 5.0, \"hospitalized\": null, \"total\": 1209, \"totalTestResults\": 1209, \"posNeg\": 1209, \"fips\": \"06\", \"deathIncrease\": 0.0, \"hospitalizedIncrease\": 0.0, \"negativeIncrease\": 0.0, \"positiveIncrease\": 41.0, \"totalTestResultsIncrease\": 41.0}, {\"date\": \"2020-03-14T00:00:00\", \"state\": \"CA\", \"positive\": 252.0, \"negative\": 916.0, \"pending\": null, \"hospitalizedCurrently\": null, \"hospitalizedCumulative\": null, \"inIcuCurrently\": null, \"inIcuCumulative\": null, \"onVentilatorCurrently\": null, \"onVentilatorCumulative\": null, \"recovered\": null, \"hash\": \"bfe38009fc5e230d310f823f106a0947b1a2bce3\", \"dateChecked\": \"2020-03-14T20:00:00Z\", \"death\": 5.0, \"hospitalized\": null, \"total\": 1168, \"totalTestResults\": 1168, \"posNeg\": 1168, \"fips\": \"06\", \"deathIncrease\": 1.0, \"hospitalizedIncrease\": 0.0, \"negativeIncrease\": 0.0, \"positiveIncrease\": 50.0, \"totalTestResultsIncrease\": 50.0}, {\"date\": \"2020-03-13T00:00:00\", \"state\": \"CA\", \"positive\": 202.0, \"negative\": 916.0, \"pending\": null, \"hospitalizedCurrently\": null, \"hospitalizedCumulative\": null, \"inIcuCurrently\": null, \"inIcuCumulative\": null, \"onVentilatorCurrently\": null, \"onVentilatorCumulative\": null, \"recovered\": null, \"hash\": \"bb817225b0e56a4c1051b2e6550b5ae85e06487c\", \"dateChecked\": \"2020-03-13T20:00:00Z\", \"death\": 4.0, \"hospitalized\": null, \"total\": 1118, \"totalTestResults\": 1118, \"posNeg\": 1118, \"fips\": \"06\", \"deathIncrease\": 0.0, \"hospitalizedIncrease\": 0.0, \"negativeIncrease\": 0.0, \"positiveIncrease\": 0.0, \"totalTestResultsIncrease\": 0.0}, {\"date\": \"2020-03-12T00:00:00\", \"state\": \"CA\", \"positive\": 202.0, \"negative\": 916.0, \"pending\": null, \"hospitalizedCurrently\": null, \"hospitalizedCumulative\": null, \"inIcuCurrently\": null, \"inIcuCumulative\": null, \"onVentilatorCurrently\": null, \"onVentilatorCumulative\": null, \"recovered\": null, \"hash\": \"8dd3541eb41a6171cc6bbf05632f8d9bb4570490\", \"dateChecked\": \"2020-03-12T20:00:00Z\", \"death\": 4.0, \"hospitalized\": null, \"total\": 1118, \"totalTestResults\": 1118, \"posNeg\": 1118, \"fips\": \"06\", \"deathIncrease\": 4.0, \"hospitalizedIncrease\": 0.0, \"negativeIncrease\": 0.0, \"positiveIncrease\": 45.0, \"totalTestResultsIncrease\": 45.0}, {\"date\": \"2020-03-11T00:00:00\", \"state\": \"CA\", \"positive\": 157.0, \"negative\": 916.0, \"pending\": null, \"hospitalizedCurrently\": null, \"hospitalizedCumulative\": null, \"inIcuCurrently\": null, \"inIcuCumulative\": null, \"onVentilatorCurrently\": null, \"onVentilatorCumulative\": null, \"recovered\": null, \"hash\": \"5b964b8b4ae1c9c7ef6daba3357363e3abc15fc2\", \"dateChecked\": \"2020-03-11T20:00:00Z\", \"death\": null, \"hospitalized\": null, \"total\": 1073, \"totalTestResults\": 1073, \"posNeg\": 1073, \"fips\": \"06\", \"deathIncrease\": 0.0, \"hospitalizedIncrease\": 0.0, \"negativeIncrease\": 226.0, \"positiveIncrease\": 24.0, \"totalTestResultsIncrease\": 250.0}, {\"date\": \"2020-03-10T00:00:00\", \"state\": \"CA\", \"positive\": 133.0, \"negative\": 690.0, \"pending\": null, \"hospitalizedCurrently\": null, \"hospitalizedCumulative\": null, \"inIcuCurrently\": null, \"inIcuCumulative\": null, \"onVentilatorCurrently\": null, \"onVentilatorCumulative\": null, \"recovered\": null, \"hash\": \"0d0ac26ba210e002c4cef8b50e8305df0d25daea\", \"dateChecked\": \"2020-03-10T20:00:00Z\", \"death\": null, \"hospitalized\": null, \"total\": 823, \"totalTestResults\": 823, \"posNeg\": 823, \"fips\": \"06\", \"deathIncrease\": 0.0, \"hospitalizedIncrease\": 0.0, \"negativeIncrease\": 0.0, \"positiveIncrease\": 19.0, \"totalTestResultsIncrease\": 19.0}, {\"date\": \"2020-03-09T00:00:00\", \"state\": \"CA\", \"positive\": 114.0, \"negative\": 690.0, \"pending\": null, \"hospitalizedCurrently\": null, \"hospitalizedCumulative\": null, \"inIcuCurrently\": null, \"inIcuCumulative\": null, \"onVentilatorCurrently\": null, \"onVentilatorCumulative\": null, \"recovered\": null, \"hash\": \"6af63e3581f76d44b6446c5c221d5a2dd96f5a24\", \"dateChecked\": \"2020-03-09T20:00:00Z\", \"death\": null, \"hospitalized\": null, \"total\": 804, \"totalTestResults\": 804, \"posNeg\": 804, \"fips\": \"06\", \"deathIncrease\": 0.0, \"hospitalizedIncrease\": 0.0, \"negativeIncrease\": 228.0, \"positiveIncrease\": 26.0, \"totalTestResultsIncrease\": 254.0}, {\"date\": \"2020-03-08T00:00:00\", \"state\": \"CA\", \"positive\": 88.0, \"negative\": 462.0, \"pending\": null, \"hospitalizedCurrently\": null, \"hospitalizedCumulative\": null, \"inIcuCurrently\": null, \"inIcuCumulative\": null, \"onVentilatorCurrently\": null, \"onVentilatorCumulative\": null, \"recovered\": null, \"hash\": \"39ba303e6c33d759f657dfaa835f2714a49ecc37\", \"dateChecked\": \"2020-03-08T20:00:00Z\", \"death\": null, \"hospitalized\": null, \"total\": 550, \"totalTestResults\": 550, \"posNeg\": 550, \"fips\": \"06\", \"deathIncrease\": 0.0, \"hospitalizedIncrease\": 0.0, \"negativeIncrease\": 0.0, \"positiveIncrease\": 19.0, \"totalTestResultsIncrease\": 19.0}, {\"date\": \"2020-03-07T00:00:00\", \"state\": \"CA\", \"positive\": 69.0, \"negative\": 462.0, \"pending\": null, \"hospitalizedCurrently\": null, \"hospitalizedCumulative\": null, \"inIcuCurrently\": null, \"inIcuCumulative\": null, \"onVentilatorCurrently\": null, \"onVentilatorCumulative\": null, \"recovered\": null, \"hash\": \"311a213f5744c6b33147c107519218e8d9f55d23\", \"dateChecked\": \"2020-03-07T21:00:00Z\", \"death\": null, \"hospitalized\": null, \"total\": 531, \"totalTestResults\": 531, \"posNeg\": 531, \"fips\": \"06\", \"deathIncrease\": 0.0, \"hospitalizedIncrease\": 0.0, \"negativeIncrease\": 0.0, \"positiveIncrease\": 9.0, \"totalTestResultsIncrease\": 9.0}, {\"date\": \"2020-03-06T00:00:00\", \"state\": \"CA\", \"positive\": 60.0, \"negative\": 462.0, \"pending\": null, \"hospitalizedCurrently\": null, \"hospitalizedCumulative\": null, \"inIcuCurrently\": null, \"inIcuCumulative\": null, \"onVentilatorCurrently\": null, \"onVentilatorCumulative\": null, \"recovered\": null, \"hash\": \"ed5984edee3bf6ee9bc3b89bc15e52f3bdade592\", \"dateChecked\": \"2020-03-06T21:00:00Z\", \"death\": null, \"hospitalized\": null, \"total\": 522, \"totalTestResults\": 522, \"posNeg\": 522, \"fips\": \"06\", \"deathIncrease\": 0.0, \"hospitalizedIncrease\": 0.0, \"negativeIncrease\": 0.0, \"positiveIncrease\": 7.0, \"totalTestResultsIncrease\": 7.0}, {\"date\": \"2020-03-05T00:00:00\", \"state\": \"CA\", \"positive\": 53.0, \"negative\": 462.0, \"pending\": null, \"hospitalizedCurrently\": null, \"hospitalizedCumulative\": null, \"inIcuCurrently\": null, \"inIcuCumulative\": null, \"onVentilatorCurrently\": null, \"onVentilatorCumulative\": null, \"recovered\": null, \"hash\": \"ce0755ed64d8d97da631569ac60cacb5e301a000\", \"dateChecked\": \"2020-03-05T21:00:00Z\", \"death\": null, \"hospitalized\": null, \"total\": 515, \"totalTestResults\": 515, \"posNeg\": 515, \"fips\": \"06\", \"deathIncrease\": 0.0, \"hospitalizedIncrease\": 0.0, \"negativeIncrease\": 0.0, \"positiveIncrease\": 0.0, \"totalTestResultsIncrease\": 0.0}, {\"date\": \"2020-03-04T00:00:00\", \"state\": \"CA\", \"positive\": 53.0, \"negative\": 462.0, \"pending\": null, \"hospitalizedCurrently\": null, \"hospitalizedCumulative\": null, \"inIcuCurrently\": null, \"inIcuCumulative\": null, \"onVentilatorCurrently\": null, \"onVentilatorCumulative\": null, \"recovered\": null, \"hash\": \"e89c69dcaf7f202257af579a58f86c340eee886a\", \"dateChecked\": \"2020-03-04T21:00:00Z\", \"death\": null, \"hospitalized\": null, \"total\": 515, \"totalTestResults\": 515, \"posNeg\": 515, \"fips\": \"06\", \"deathIncrease\": null, \"hospitalizedIncrease\": null, \"negativeIncrease\": null, \"positiveIncrease\": null, \"totalTestResultsIncrease\": null}]}}, {\"mode\": \"vega-lite\"});\n",
       "</script>"
      ],
      "text/plain": [
       "alt.LayerChart(...)"
      ]
     },
     "execution_count": 4,
     "metadata": {},
     "output_type": "execute_result"
    }
   ],
   "source": [
    "#hide_input\n",
    "\n",
    "testChart"
   ]
  },
  {
   "cell_type": "markdown",
   "metadata": {
    "colab_type": "text",
    "id": "q-jGcfjw7xG1",
    "papermill": {
     "duration": 0.00779,
     "end_time": "2020-04-04T12:09:21.839098",
     "exception": false,
     "start_time": "2020-04-04T12:09:21.831308",
     "status": "completed"
    },
    "tags": []
   },
   "source": [
    "# Deaths and positive cases added each day"
   ]
  },
  {
   "cell_type": "code",
   "execution_count": 5,
   "metadata": {
    "colab": {},
    "colab_type": "code",
    "execution": {
     "iopub.execute_input": "2020-04-04T12:09:21.868688Z",
     "iopub.status.busy": "2020-04-04T12:09:21.863605Z",
     "iopub.status.idle": "2020-04-04T12:09:21.885501Z",
     "shell.execute_reply": "2020-04-04T12:09:21.884566Z"
    },
    "id": "hQ3KXZviEHhH",
    "papermill": {
     "duration": 0.037756,
     "end_time": "2020-04-04T12:09:21.885604",
     "exception": false,
     "start_time": "2020-04-04T12:09:21.847848",
     "status": "completed"
    },
    "tags": []
   },
   "outputs": [],
   "source": [
    "#hide\n",
    "\n",
    "# create step graphs to compare increase in death/positive cases in CA and NY\n",
    "domain = ['CA', 'NY']\n",
    "range_ = ['#ff8f8f', '#036aff']\n",
    "\n",
    "deaths = alt.Chart(states_df).transform_fold(\n",
    "    ['CA', 'NY']\n",
    ").mark_line(interpolate='step-after').encode(\n",
    "    alt.X('date:T', axis=alt.Axis(format=('%b %d'))),\n",
    "    alt.Y('deathIncrease:Q'),\n",
    "    color=alt.Color('state:N', scale=alt.Scale(domain=domain, range=range_))\n",
    ").properties(\n",
    "    title='Deaths per day',\n",
    "    width=700\n",
    ")\n",
    "\n",
    "positive = alt.Chart(states_df).transform_fold(\n",
    "    ['CA', 'NY']\n",
    ").mark_line(interpolate='step-after').encode(\n",
    "    alt.X('date:T', axis=alt.Axis(format=('%b %d'))),\n",
    "    alt.Y('positiveIncrease:Q'),\n",
    "    color=alt.Color('state:N', scale=alt.Scale(domain=domain, range=range_))\n",
    ").properties(\n",
    "    title='Positive cases added per day',\n",
    "    width=700\n",
    ")\n",
    "\n",
    "# add text labels over steps\n",
    "deathsText = deaths.mark_text(\n",
    "    align='center',\n",
    "    baseline='bottom',\n",
    "    dx=8,\n",
    "    dy=-5\n",
    ").encode(\n",
    "    text='deathIncrease'\n",
    ")\n",
    "\n",
    "positiveText = positive.mark_text(\n",
    "    align='center',\n",
    "    baseline='bottom',\n",
    "    dy=-5\n",
    ").encode(\n",
    "    text='positiveIncrease'\n",
    ")\n",
    "\n",
    "deathsAdded = deaths + deathsText\n",
    "positiveAdded = positive + positiveText"
   ]
  },
  {
   "cell_type": "code",
   "execution_count": 6,
   "metadata": {
    "colab": {},
    "colab_type": "code",
    "execution": {
     "iopub.execute_input": "2020-04-04T12:09:21.909552Z",
     "iopub.status.busy": "2020-04-04T12:09:21.908992Z",
     "iopub.status.idle": "2020-04-04T12:09:21.911211Z",
     "shell.execute_reply": "2020-04-04T12:09:21.910646Z"
    },
    "id": "ID3jEptd3n_k",
    "papermill": {
     "duration": 0.016446,
     "end_time": "2020-04-04T12:09:21.911306",
     "exception": false,
     "start_time": "2020-04-04T12:09:21.894860",
     "status": "completed"
    },
    "tags": []
   },
   "outputs": [],
   "source": [
    "#hide\n",
    "\n",
    "# create a function with custom top level chart configs\n",
    "def makeChart(chart):\n",
    "  \n",
    "  return (\n",
    "    chart.configure_title(\n",
    "      fontSize=17,\n",
    "      color='#7f7f7f',\n",
    "      anchor='middle',\n",
    "      dx=10\n",
    "    ).configure_axis(\n",
    "        grid=False\n",
    "    ).configure_axisY(\n",
    "        labels=False,\n",
    "        domainOpacity=0,\n",
    "        orient='right',\n",
    "        ticks=False,\n",
    "        title=None\n",
    "    ).configure_axisX(\n",
    "        labelPadding=5,\n",
    "        title=None\n",
    "    ).configure_view(\n",
    "        strokeWidth=0\n",
    "    ).configure_legend(\n",
    "        title=None,\n",
    "        labelFontSize=15,\n",
    "        labelColor='#7f7f7f',\n",
    "        symbolType='square',\n",
    "        orient='left'\n",
    "    )\n",
    "  )"
   ]
  },
  {
   "cell_type": "code",
   "execution_count": 7,
   "metadata": {
    "colab": {
     "base_uri": "https://localhost:8080/",
     "height": 377
    },
    "colab_type": "code",
    "execution": {
     "iopub.execute_input": "2020-04-04T12:09:21.989891Z",
     "iopub.status.busy": "2020-04-04T12:09:21.978922Z",
     "iopub.status.idle": "2020-04-04T12:09:21.996307Z",
     "shell.execute_reply": "2020-04-04T12:09:21.995772Z"
    },
    "id": "QEaymuAD5MzA",
    "outputId": "9e4530b3-df62-4543-d9ae-1071e20979a9",
    "papermill": {
     "duration": 0.076643,
     "end_time": "2020-04-04T12:09:21.996409",
     "exception": false,
     "start_time": "2020-04-04T12:09:21.919766",
     "status": "completed"
    },
    "tags": []
   },
   "outputs": [
    {
     "data": {
      "text/html": [
       "\n",
       "<div id=\"altair-viz-8cdaaba7605b496387c2c94211c17e43\"></div>\n",
       "<script type=\"text/javascript\">\n",
       "  (function(spec, embedOpt){\n",
       "    let outputDiv = document.currentScript.previousElementSibling;\n",
       "    if (outputDiv.id !== \"altair-viz-8cdaaba7605b496387c2c94211c17e43\") {\n",
       "      outputDiv = document.getElementById(\"altair-viz-8cdaaba7605b496387c2c94211c17e43\");\n",
       "    }\n",
       "    const paths = {\n",
       "      \"vega\": \"https://cdn.jsdelivr.net/npm//vega@5?noext\",\n",
       "      \"vega-lib\": \"https://cdn.jsdelivr.net/npm//vega-lib?noext\",\n",
       "      \"vega-lite\": \"https://cdn.jsdelivr.net/npm//vega-lite@4.8.1?noext\",\n",
       "      \"vega-embed\": \"https://cdn.jsdelivr.net/npm//vega-embed@6?noext\",\n",
       "    };\n",
       "\n",
       "    function loadScript(lib) {\n",
       "      return new Promise(function(resolve, reject) {\n",
       "        var s = document.createElement('script');\n",
       "        s.src = paths[lib];\n",
       "        s.async = true;\n",
       "        s.onload = () => resolve(paths[lib]);\n",
       "        s.onerror = () => reject(`Error loading script: ${paths[lib]}`);\n",
       "        document.getElementsByTagName(\"head\")[0].appendChild(s);\n",
       "      });\n",
       "    }\n",
       "\n",
       "    function showError(err) {\n",
       "      outputDiv.innerHTML = `<div class=\"error\" style=\"color:red;\">${err}</div>`;\n",
       "      throw err;\n",
       "    }\n",
       "\n",
       "    function displayChart(vegaEmbed) {\n",
       "      vegaEmbed(outputDiv, spec, embedOpt)\n",
       "        .catch(err => showError(`Javascript Error: ${err.message}<br>This usually means there's a typo in your chart specification. See the javascript console for the full traceback.`));\n",
       "    }\n",
       "\n",
       "    if(typeof define === \"function\" && define.amd) {\n",
       "      requirejs.config({paths});\n",
       "      require([\"vega-embed\"], displayChart, err => showError(`Error loading script: ${err.message}`));\n",
       "    } else if (typeof vegaEmbed === \"function\") {\n",
       "      displayChart(vegaEmbed);\n",
       "    } else {\n",
       "      loadScript(\"vega\")\n",
       "        .then(() => loadScript(\"vega-lite\"))\n",
       "        .then(() => loadScript(\"vega-embed\"))\n",
       "        .catch(showError)\n",
       "        .then(() => displayChart(vegaEmbed));\n",
       "    }\n",
       "  })({\"config\": {\"view\": {\"continuousWidth\": 400, \"continuousHeight\": 300, \"strokeWidth\": 0}, \"axis\": {\"grid\": false}, \"axisX\": {\"labelPadding\": 5, \"title\": null}, \"axisY\": {\"domainOpacity\": 0, \"labels\": false, \"orient\": \"right\", \"ticks\": false, \"title\": null}, \"legend\": {\"labelColor\": \"#7f7f7f\", \"labelFontSize\": 15, \"orient\": \"left\", \"symbolType\": \"square\", \"title\": null}, \"title\": {\"anchor\": \"middle\", \"color\": \"#7f7f7f\", \"dx\": 10, \"fontSize\": 17}}, \"layer\": [{\"mark\": {\"type\": \"line\", \"interpolate\": \"step-after\"}, \"encoding\": {\"color\": {\"type\": \"nominal\", \"field\": \"state\", \"scale\": {\"domain\": [\"CA\", \"NY\"], \"range\": [\"#ff8f8f\", \"#036aff\"]}}, \"x\": {\"type\": \"temporal\", \"axis\": {\"format\": \"%b %d\"}, \"field\": \"date\"}, \"y\": {\"type\": \"quantitative\", \"field\": \"deathIncrease\"}}, \"title\": \"Deaths per day\", \"transform\": [{\"fold\": [\"CA\", \"NY\"]}], \"width\": 700}, {\"mark\": {\"type\": \"text\", \"align\": \"center\", \"baseline\": \"bottom\", \"dx\": 8, \"dy\": -5}, \"encoding\": {\"color\": {\"type\": \"nominal\", \"field\": \"state\", \"scale\": {\"domain\": [\"CA\", \"NY\"], \"range\": [\"#ff8f8f\", \"#036aff\"]}}, \"text\": {\"type\": \"quantitative\", \"field\": \"deathIncrease\"}, \"x\": {\"type\": \"temporal\", \"axis\": {\"format\": \"%b %d\"}, \"field\": \"date\"}, \"y\": {\"type\": \"quantitative\", \"field\": \"deathIncrease\"}}, \"title\": \"Deaths per day\", \"transform\": [{\"fold\": [\"CA\", \"NY\"]}], \"width\": 700}], \"data\": {\"name\": \"data-9ed4ee13bd3912b9c70496b32547925c\"}, \"$schema\": \"https://vega.github.io/schema/vega-lite/v4.8.1.json\", \"datasets\": {\"data-9ed4ee13bd3912b9c70496b32547925c\": [{\"date\": \"2020-04-03T00:00:00\", \"state\": \"CA\", \"positive\": 10701.0, \"negative\": 24599.0, \"pending\": 59500.0, \"hospitalizedCurrently\": 2188.0, \"hospitalizedCumulative\": null, \"inIcuCurrently\": 901.0, \"inIcuCumulative\": null, \"onVentilatorCurrently\": null, \"onVentilatorCumulative\": null, \"recovered\": null, \"hash\": \"67f105bfa3690e07b85e362a0c6c43aa796aba45\", \"dateChecked\": \"2020-04-03T20:00:00Z\", \"death\": 237.0, \"hospitalized\": null, \"total\": 94800, \"totalTestResults\": 35300, \"posNeg\": 35300, \"fips\": \"06\", \"deathIncrease\": 34.0, \"hospitalizedIncrease\": 0.0, \"negativeIncrease\": 790.0, \"positiveIncrease\": 1510.0, \"totalTestResultsIncrease\": 2300.0}, {\"date\": \"2020-04-03T00:00:00\", \"state\": \"NY\", \"positive\": 102863.0, \"negative\": 168139.0, \"pending\": null, \"hospitalizedCurrently\": 14810.0, \"hospitalizedCumulative\": 23696.0, \"inIcuCurrently\": 3731.0, \"inIcuCumulative\": null, \"onVentilatorCurrently\": null, \"onVentilatorCumulative\": null, \"recovered\": 8886.0, \"hash\": \"accc00cef8483cff65936c97844fa6aa44976324\", \"dateChecked\": \"2020-04-03T20:00:00Z\", \"death\": 2935.0, \"hospitalized\": 23696.0, \"total\": 271002, \"totalTestResults\": 271002, \"posNeg\": 271002, \"fips\": \"36\", \"deathIncrease\": 562.0, \"hospitalizedIncrease\": 2879.0, \"negativeIncrease\": 21555.0, \"positiveIncrease\": 10482.0, \"totalTestResultsIncrease\": 32037.0}, {\"date\": \"2020-04-02T00:00:00\", \"state\": \"CA\", \"positive\": 9191.0, \"negative\": 23809.0, \"pending\": 59500.0, \"hospitalizedCurrently\": 1922.0, \"hospitalizedCumulative\": null, \"inIcuCurrently\": 816.0, \"inIcuCumulative\": null, \"onVentilatorCurrently\": null, \"onVentilatorCumulative\": null, \"recovered\": null, \"hash\": \"99877fe91b05bb13daef3f63c02c50d2a271e7f5\", \"dateChecked\": \"2020-04-02T20:00:00Z\", \"death\": 203.0, \"hospitalized\": null, \"total\": 92500, \"totalTestResults\": 33000, \"posNeg\": 33000, \"fips\": \"06\", \"deathIncrease\": 32.0, \"hospitalizedIncrease\": 0.0, \"negativeIncrease\": 2037.0, \"positiveIncrease\": 1036.0, \"totalTestResultsIncrease\": 3073.0}, {\"date\": \"2020-04-02T00:00:00\", \"state\": \"NY\", \"positive\": 92381.0, \"negative\": 146584.0, \"pending\": null, \"hospitalizedCurrently\": 13383.0, \"hospitalizedCumulative\": 20817.0, \"inIcuCurrently\": 3396.0, \"inIcuCumulative\": null, \"onVentilatorCurrently\": null, \"onVentilatorCumulative\": null, \"recovered\": 7434.0, \"hash\": \"764d0566c27be04c416c502640d5fffbcb8cad26\", \"dateChecked\": \"2020-04-02T20:00:00Z\", \"death\": 2373.0, \"hospitalized\": 20817.0, \"total\": 238965, \"totalTestResults\": 238965, \"posNeg\": 238965, \"fips\": \"36\", \"deathIncrease\": 432.0, \"hospitalizedIncrease\": 2449.0, \"negativeIncrease\": 9416.0, \"positiveIncrease\": 8669.0, \"totalTestResultsIncrease\": 18085.0}, {\"date\": \"2020-04-01T00:00:00\", \"state\": \"CA\", \"positive\": 8155.0, \"negative\": 21772.0, \"pending\": 57400.0, \"hospitalizedCurrently\": 1855.0, \"hospitalizedCumulative\": 1855.0, \"inIcuCurrently\": 774.0, \"inIcuCumulative\": 774.0, \"onVentilatorCurrently\": null, \"onVentilatorCumulative\": null, \"recovered\": null, \"hash\": \"6fb93efce94c15c30e753005c45c7b45e390198c\", \"dateChecked\": \"2020-04-01T20:00:00Z\", \"death\": 171.0, \"hospitalized\": 1855.0, \"total\": 87327, \"totalTestResults\": 29927, \"posNeg\": 29927, \"fips\": \"06\", \"deathIncrease\": 18.0, \"hospitalizedIncrease\": 238.0, \"negativeIncrease\": 0.0, \"positiveIncrease\": 673.0, \"totalTestResultsIncrease\": 673.0}, {\"date\": \"2020-04-01T00:00:00\", \"state\": \"NY\", \"positive\": 83712.0, \"negative\": 137168.0, \"pending\": null, \"hospitalizedCurrently\": 12226.0, \"hospitalizedCumulative\": 18368.0, \"inIcuCurrently\": 3022.0, \"inIcuCumulative\": 3022.0, \"onVentilatorCurrently\": null, \"onVentilatorCumulative\": null, \"recovered\": 6142.0, \"hash\": \"bc022c8f01dbc1a4d1f046ebce21c18a7b42cfa6\", \"dateChecked\": \"2020-04-01T20:00:00Z\", \"death\": 1941.0, \"hospitalized\": 18368.0, \"total\": 220880, \"totalTestResults\": 220880, \"posNeg\": 220880, \"fips\": \"36\", \"deathIncrease\": 391.0, \"hospitalizedIncrease\": 2464.0, \"negativeIncrease\": 7777.0, \"positiveIncrease\": 7917.0, \"totalTestResultsIncrease\": 15694.0}, {\"date\": \"2020-03-31T00:00:00\", \"state\": \"CA\", \"positive\": 7482.0, \"negative\": 21772.0, \"pending\": 57400.0, \"hospitalizedCurrently\": 1617.0, \"hospitalizedCumulative\": 1617.0, \"inIcuCurrently\": 657.0, \"inIcuCumulative\": 657.0, \"onVentilatorCurrently\": null, \"onVentilatorCumulative\": null, \"recovered\": null, \"hash\": \"8aa120a4c2d14e4da8b37e1148edb1eec68c9797\", \"dateChecked\": \"2020-03-31T20:00:00Z\", \"death\": 153.0, \"hospitalized\": 1617.0, \"total\": 86654, \"totalTestResults\": 29254, \"posNeg\": 29254, \"fips\": \"06\", \"deathIncrease\": 20.0, \"hospitalizedIncrease\": 185.0, \"negativeIncrease\": 1223.0, \"positiveIncrease\": 1035.0, \"totalTestResultsIncrease\": 2258.0}, {\"date\": \"2020-03-31T00:00:00\", \"state\": \"NY\", \"positive\": 75795.0, \"negative\": 129391.0, \"pending\": null, \"hospitalizedCurrently\": 10929.0, \"hospitalizedCumulative\": 15904.0, \"inIcuCurrently\": 2710.0, \"inIcuCumulative\": 2710.0, \"onVentilatorCurrently\": null, \"onVentilatorCumulative\": null, \"recovered\": 4975.0, \"hash\": \"a3afdea93fae4daf8073978749d736d46e9134c6\", \"dateChecked\": \"2020-03-31T20:00:00Z\", \"death\": 1550.0, \"hospitalized\": 15904.0, \"total\": 205186, \"totalTestResults\": 205186, \"posNeg\": 205186, \"fips\": \"36\", \"deathIncrease\": 332.0, \"hospitalizedIncrease\": 2183.0, \"negativeIncrease\": 9420.0, \"positiveIncrease\": 9298.0, \"totalTestResultsIncrease\": 18718.0}, {\"date\": \"2020-03-30T00:00:00\", \"state\": \"CA\", \"positive\": 6447.0, \"negative\": 20549.0, \"pending\": 64400.0, \"hospitalizedCurrently\": 1432.0, \"hospitalizedCumulative\": 1432.0, \"inIcuCurrently\": 597.0, \"inIcuCumulative\": 597.0, \"onVentilatorCurrently\": null, \"onVentilatorCumulative\": null, \"recovered\": null, \"hash\": \"b2fd37c8b374d544e8f30c2b619be88799980737\", \"dateChecked\": \"2020-03-30T20:00:00Z\", \"death\": 133.0, \"hospitalized\": 1432.0, \"total\": 91396, \"totalTestResults\": 26996, \"posNeg\": 26996, \"fips\": \"06\", \"deathIncrease\": 10.0, \"hospitalizedIncrease\": 398.0, \"negativeIncrease\": 0.0, \"positiveIncrease\": 739.0, \"totalTestResultsIncrease\": 739.0}, {\"date\": \"2020-03-30T00:00:00\", \"state\": \"NY\", \"positive\": 66497.0, \"negative\": 119971.0, \"pending\": null, \"hospitalizedCurrently\": 9517.0, \"hospitalizedCumulative\": 13721.0, \"inIcuCurrently\": 2352.0, \"inIcuCumulative\": 2352.0, \"onVentilatorCurrently\": null, \"onVentilatorCumulative\": null, \"recovered\": 4204.0, \"hash\": \"a749060bc47c2573b505c13198673b348ed3cc2b\", \"dateChecked\": \"2020-03-30T20:00:00Z\", \"death\": 1218.0, \"hospitalized\": 13721.0, \"total\": 186468, \"totalTestResults\": 186468, \"posNeg\": 186468, \"fips\": \"36\", \"deathIncrease\": 253.0, \"hospitalizedIncrease\": 1646.0, \"negativeIncrease\": 7124.0, \"positiveIncrease\": 6984.0, \"totalTestResultsIncrease\": 14108.0}, {\"date\": \"2020-03-29T00:00:00\", \"state\": \"CA\", \"positive\": 5708.0, \"negative\": 20549.0, \"pending\": 64400.0, \"hospitalizedCurrently\": 1034.0, \"hospitalizedCumulative\": 1034.0, \"inIcuCurrently\": 410.0, \"inIcuCumulative\": 410.0, \"onVentilatorCurrently\": null, \"onVentilatorCumulative\": null, \"recovered\": null, \"hash\": \"1b6fd0782f7e0f6178ea2f83a468c5d2471cc0d7\", \"dateChecked\": \"2020-03-29T20:00:00Z\", \"death\": 123.0, \"hospitalized\": 1034.0, \"total\": 90657, \"totalTestResults\": 26257, \"posNeg\": 26257, \"fips\": \"06\", \"deathIncrease\": 22.0, \"hospitalizedIncrease\": 0.0, \"negativeIncrease\": 0.0, \"positiveIncrease\": 1065.0, \"totalTestResultsIncrease\": 1065.0}, {\"date\": \"2020-03-29T00:00:00\", \"state\": \"NY\", \"positive\": 59513.0, \"negative\": 112847.0, \"pending\": null, \"hospitalizedCurrently\": 8503.0, \"hospitalizedCumulative\": 12075.0, \"inIcuCurrently\": 2037.0, \"inIcuCumulative\": 2037.0, \"onVentilatorCurrently\": null, \"onVentilatorCumulative\": null, \"recovered\": 3572.0, \"hash\": \"b5656122e28105ae4788a0d68eabb1ef68a06287\", \"dateChecked\": \"2020-03-29T20:00:00Z\", \"death\": 965.0, \"hospitalized\": 12075.0, \"total\": 172360, \"totalTestResults\": 172360, \"posNeg\": 172360, \"fips\": \"36\", \"deathIncrease\": 237.0, \"hospitalizedIncrease\": 2021.0, \"negativeIncrease\": 9231.0, \"positiveIncrease\": 7195.0, \"totalTestResultsIncrease\": 16426.0}, {\"date\": \"2020-03-28T00:00:00\", \"state\": \"CA\", \"positive\": 4643.0, \"negative\": 20549.0, \"pending\": 64400.0, \"hospitalizedCurrently\": 1034.0, \"hospitalizedCumulative\": 1034.0, \"inIcuCurrently\": 410.0, \"inIcuCumulative\": 410.0, \"onVentilatorCurrently\": null, \"onVentilatorCumulative\": null, \"recovered\": null, \"hash\": \"8c30beb89dd131ed8a1aacaa4d70b47e58810777\", \"dateChecked\": \"2020-03-28T20:00:00Z\", \"death\": 101.0, \"hospitalized\": 1034.0, \"total\": 89592, \"totalTestResults\": 25192, \"posNeg\": 25192, \"fips\": \"06\", \"deathIncrease\": 23.0, \"hospitalizedIncrease\": 288.0, \"negativeIncrease\": 3169.0, \"positiveIncrease\": 764.0, \"totalTestResultsIncrease\": 3933.0}, {\"date\": \"2020-03-28T00:00:00\", \"state\": \"NY\", \"positive\": 52318.0, \"negative\": 103616.0, \"pending\": null, \"hospitalizedCurrently\": 7328.0, \"hospitalizedCumulative\": 10054.0, \"inIcuCurrently\": 1755.0, \"inIcuCumulative\": 1755.0, \"onVentilatorCurrently\": null, \"onVentilatorCumulative\": null, \"recovered\": 2726.0, \"hash\": \"7592db95575a5d4ef226ff6014283d8d85a0db52\", \"dateChecked\": \"2020-03-28T20:00:00Z\", \"death\": 728.0, \"hospitalized\": 10054.0, \"total\": 155934, \"totalTestResults\": 155934, \"posNeg\": 155934, \"fips\": \"36\", \"deathIncrease\": 209.0, \"hospitalizedIncrease\": 1528.0, \"negativeIncrease\": 2498.0, \"positiveIncrease\": 7683.0, \"totalTestResultsIncrease\": 10181.0}, {\"date\": \"2020-03-27T00:00:00\", \"state\": \"CA\", \"positive\": 3879.0, \"negative\": 17380.0, \"pending\": 57400.0, \"hospitalizedCurrently\": 746.0, \"hospitalizedCumulative\": 746.0, \"inIcuCurrently\": 200.0, \"inIcuCumulative\": 200.0, \"onVentilatorCurrently\": null, \"onVentilatorCumulative\": null, \"recovered\": null, \"hash\": \"10bb2a3981dc15348851c537abdb117a3e09d2a3\", \"dateChecked\": \"2020-03-27T20:00:00Z\", \"death\": 78.0, \"hospitalized\": 746.0, \"total\": 78659, \"totalTestResults\": 21259, \"posNeg\": 21259, \"fips\": \"06\", \"deathIncrease\": 13.0, \"hospitalizedIncrease\": 746.0, \"negativeIncrease\": 0.0, \"positiveIncrease\": 873.0, \"totalTestResultsIncrease\": 873.0}, {\"date\": \"2020-03-27T00:00:00\", \"state\": \"NY\", \"positive\": 44635.0, \"negative\": 101118.0, \"pending\": null, \"hospitalizedCurrently\": 6481.0, \"hospitalizedCumulative\": 8526.0, \"inIcuCurrently\": 1583.0, \"inIcuCumulative\": 1583.0, \"onVentilatorCurrently\": null, \"onVentilatorCumulative\": null, \"recovered\": 2045.0, \"hash\": \"d7f2dd3fcfbabebfdaeaa0a19e5db38d94fb112a\", \"dateChecked\": \"2020-03-27T20:00:00Z\", \"death\": 519.0, \"hospitalized\": 8526.0, \"total\": 145753, \"totalTestResults\": 145753, \"posNeg\": 145753, \"fips\": \"36\", \"deathIncrease\": 134.0, \"hospitalizedIncrease\": 1682.0, \"negativeIncrease\": 16272.0, \"positiveIncrease\": 7377.0, \"totalTestResultsIncrease\": 23649.0}, {\"date\": \"2020-03-26T00:00:00\", \"state\": \"CA\", \"positive\": 3006.0, \"negative\": 17380.0, \"pending\": 57400.0, \"hospitalizedCurrently\": null, \"hospitalizedCumulative\": null, \"inIcuCurrently\": null, \"inIcuCumulative\": null, \"onVentilatorCurrently\": null, \"onVentilatorCumulative\": null, \"recovered\": null, \"hash\": \"d073989819811eaa4edd1a4f71a3716c44b653ac\", \"dateChecked\": \"2020-03-26T20:00:00Z\", \"death\": 65.0, \"hospitalized\": null, \"total\": 77786, \"totalTestResults\": 20386, \"posNeg\": 20386, \"fips\": \"06\", \"deathIncrease\": 12.0, \"hospitalizedIncrease\": 0.0, \"negativeIncrease\": 1459.0, \"positiveIncrease\": 651.0, \"totalTestResultsIncrease\": 2110.0}, {\"date\": \"2020-03-26T00:00:00\", \"state\": \"NY\", \"positive\": 37258.0, \"negative\": 84846.0, \"pending\": null, \"hospitalizedCurrently\": 5327.0, \"hospitalizedCumulative\": 6844.0, \"inIcuCurrently\": 1290.0, \"inIcuCumulative\": 1290.0, \"onVentilatorCurrently\": null, \"onVentilatorCumulative\": null, \"recovered\": null, \"hash\": \"c9e5180c39aab68a5662116651d17a05f4e4b966\", \"dateChecked\": \"2020-03-26T20:00:00Z\", \"death\": 385.0, \"hospitalized\": 6844.0, \"total\": 122104, \"totalTestResults\": 122104, \"posNeg\": 122104, \"fips\": \"36\", \"deathIncrease\": 100.0, \"hospitalizedIncrease\": 3039.0, \"negativeIncrease\": 12178.0, \"positiveIncrease\": 6447.0, \"totalTestResultsIncrease\": 18625.0}, {\"date\": \"2020-03-25T00:00:00\", \"state\": \"CA\", \"positive\": 2355.0, \"negative\": 15921.0, \"pending\": 48600.0, \"hospitalizedCurrently\": null, \"hospitalizedCumulative\": null, \"inIcuCurrently\": null, \"inIcuCumulative\": null, \"onVentilatorCurrently\": null, \"onVentilatorCumulative\": null, \"recovered\": null, \"hash\": \"8d9cf944b6bf56c413644ce7729ef18efa3d75a0\", \"dateChecked\": \"2020-03-25T20:00:00Z\", \"death\": 53.0, \"hospitalized\": null, \"total\": 66876, \"totalTestResults\": 18276, \"posNeg\": 18276, \"fips\": \"06\", \"deathIncrease\": 13.0, \"hospitalizedIncrease\": 0.0, \"negativeIncrease\": 2469.0, \"positiveIncrease\": 253.0, \"totalTestResultsIncrease\": 2722.0}, {\"date\": \"2020-03-25T00:00:00\", \"state\": \"NY\", \"positive\": 30811.0, \"negative\": 72668.0, \"pending\": null, \"hospitalizedCurrently\": null, \"hospitalizedCumulative\": 3805.0, \"inIcuCurrently\": null, \"inIcuCumulative\": null, \"onVentilatorCurrently\": null, \"onVentilatorCumulative\": null, \"recovered\": null, \"hash\": \"332b18596170cd3e35617cfba48a5723aa2ec8f3\", \"dateChecked\": \"2020-03-25T20:00:00Z\", \"death\": 285.0, \"hospitalized\": 3805.0, \"total\": 103479, \"totalTestResults\": 103479, \"posNeg\": 103479, \"fips\": \"36\", \"deathIncrease\": 75.0, \"hospitalizedIncrease\": 571.0, \"negativeIncrease\": 7063.0, \"positiveIncrease\": 5146.0, \"totalTestResultsIncrease\": 12209.0}, {\"date\": \"2020-03-24T00:00:00\", \"state\": \"CA\", \"positive\": 2102.0, \"negative\": 13452.0, \"pending\": 12100.0, \"hospitalizedCurrently\": null, \"hospitalizedCumulative\": null, \"inIcuCurrently\": null, \"inIcuCumulative\": null, \"onVentilatorCurrently\": null, \"onVentilatorCumulative\": null, \"recovered\": null, \"hash\": \"de4019ee1e7e99d093947ecd2a91c6093439f221\", \"dateChecked\": \"2020-03-24T20:00:00Z\", \"death\": 40.0, \"hospitalized\": null, \"total\": 27654, \"totalTestResults\": 15554, \"posNeg\": 15554, \"fips\": \"06\", \"deathIncrease\": 13.0, \"hospitalizedIncrease\": 0.0, \"negativeIncrease\": 885.0, \"positiveIncrease\": 369.0, \"totalTestResultsIncrease\": 1254.0}, {\"date\": \"2020-03-24T00:00:00\", \"state\": \"NY\", \"positive\": 25665.0, \"negative\": 65605.0, \"pending\": null, \"hospitalizedCurrently\": null, \"hospitalizedCumulative\": 3234.0, \"inIcuCurrently\": null, \"inIcuCumulative\": null, \"onVentilatorCurrently\": null, \"onVentilatorCumulative\": null, \"recovered\": null, \"hash\": \"ea3323c8187b8ff5574d3576f83791e01dd1521f\", \"dateChecked\": \"2020-03-24T20:00:00Z\", \"death\": 210.0, \"hospitalized\": 3234.0, \"total\": 91270, \"totalTestResults\": 91270, \"posNeg\": 91270, \"fips\": \"36\", \"deathIncrease\": 96.0, \"hospitalizedIncrease\": 599.0, \"negativeIncrease\": 8191.0, \"positiveIncrease\": 4790.0, \"totalTestResultsIncrease\": 12981.0}, {\"date\": \"2020-03-23T00:00:00\", \"state\": \"CA\", \"positive\": 1733.0, \"negative\": 12567.0, \"pending\": 12100.0, \"hospitalizedCurrently\": null, \"hospitalizedCumulative\": null, \"inIcuCurrently\": null, \"inIcuCumulative\": null, \"onVentilatorCurrently\": null, \"onVentilatorCumulative\": null, \"recovered\": null, \"hash\": \"71c982ee815f7305f8cc4c93014774584620fa5f\", \"dateChecked\": \"2020-03-23T20:00:00Z\", \"death\": 27.0, \"hospitalized\": null, \"total\": 26400, \"totalTestResults\": 14300, \"posNeg\": 14300, \"fips\": \"06\", \"deathIncrease\": 0.0, \"hospitalizedIncrease\": 0.0, \"negativeIncrease\": 1263.0, \"positiveIncrease\": 197.0, \"totalTestResultsIncrease\": 1460.0}, {\"date\": \"2020-03-23T00:00:00\", \"state\": \"NY\", \"positive\": 20875.0, \"negative\": 57414.0, \"pending\": null, \"hospitalizedCurrently\": null, \"hospitalizedCumulative\": 2635.0, \"inIcuCurrently\": null, \"inIcuCumulative\": null, \"onVentilatorCurrently\": null, \"onVentilatorCumulative\": null, \"recovered\": null, \"hash\": \"40440cdc2bc6ecd1d88040f01ebbdcb130a33257\", \"dateChecked\": \"2020-03-23T20:00:00Z\", \"death\": 114.0, \"hospitalized\": 2635.0, \"total\": 78289, \"totalTestResults\": 78289, \"posNeg\": 78289, \"fips\": \"36\", \"deathIncrease\": 0.0, \"hospitalizedIncrease\": 661.0, \"negativeIncrease\": 11181.0, \"positiveIncrease\": 5707.0, \"totalTestResultsIncrease\": 16888.0}, {\"date\": \"2020-03-22T00:00:00\", \"state\": \"CA\", \"positive\": 1536.0, \"negative\": 11304.0, \"pending\": null, \"hospitalizedCurrently\": null, \"hospitalizedCumulative\": null, \"inIcuCurrently\": null, \"inIcuCumulative\": null, \"onVentilatorCurrently\": null, \"onVentilatorCumulative\": null, \"recovered\": null, \"hash\": \"894c0795f019e9dad5fb2ea4b76464bd93ca011e\", \"dateChecked\": \"2020-03-22T20:00:00Z\", \"death\": 27.0, \"hospitalized\": null, \"total\": 12840, \"totalTestResults\": 12840, \"posNeg\": 12840, \"fips\": \"06\", \"deathIncrease\": 3.0, \"hospitalizedIncrease\": 0.0, \"negativeIncrease\": 55.0, \"positiveIncrease\": 257.0, \"totalTestResultsIncrease\": 312.0}, {\"date\": \"2020-03-22T00:00:00\", \"state\": \"NY\", \"positive\": 15168.0, \"negative\": 46233.0, \"pending\": null, \"hospitalizedCurrently\": null, \"hospitalizedCumulative\": 1974.0, \"inIcuCurrently\": null, \"inIcuCumulative\": null, \"onVentilatorCurrently\": null, \"onVentilatorCumulative\": null, \"recovered\": null, \"hash\": \"0df3f76e6407f511b0c5bf4f5647cce8f407250e\", \"dateChecked\": \"2020-03-22T20:00:00Z\", \"death\": 114.0, \"hospitalized\": 1974.0, \"total\": 61401, \"totalTestResults\": 61401, \"posNeg\": 61401, \"fips\": \"36\", \"deathIncrease\": 70.0, \"hospitalizedIncrease\": 371.0, \"negativeIncrease\": 11152.0, \"positiveIncrease\": 4812.0, \"totalTestResultsIncrease\": 15964.0}, {\"date\": \"2020-03-21T00:00:00\", \"state\": \"CA\", \"positive\": 1279.0, \"negative\": 11249.0, \"pending\": null, \"hospitalizedCurrently\": null, \"hospitalizedCumulative\": null, \"inIcuCurrently\": null, \"inIcuCumulative\": null, \"onVentilatorCurrently\": null, \"onVentilatorCumulative\": null, \"recovered\": null, \"hash\": \"49c4e45a8661e84906ca87575ab8d30e7c494b6c\", \"dateChecked\": \"2020-03-21T20:00:00Z\", \"death\": 24.0, \"hospitalized\": null, \"total\": 12528, \"totalTestResults\": 12528, \"posNeg\": 12528, \"fips\": \"06\", \"deathIncrease\": 4.0, \"hospitalizedIncrease\": 0.0, \"negativeIncrease\": 825.0, \"positiveIncrease\": 216.0, \"totalTestResultsIncrease\": 1041.0}, {\"date\": \"2020-03-21T00:00:00\", \"state\": \"NY\", \"positive\": 10356.0, \"negative\": 35081.0, \"pending\": null, \"hospitalizedCurrently\": null, \"hospitalizedCumulative\": 1603.0, \"inIcuCurrently\": null, \"inIcuCumulative\": null, \"onVentilatorCurrently\": null, \"onVentilatorCumulative\": null, \"recovered\": null, \"hash\": \"eb983c3fb4fc2d7f3c2c1250578379f502787c29\", \"dateChecked\": \"2020-03-21T20:00:00Z\", \"death\": 44.0, \"hospitalized\": 1603.0, \"total\": 45437, \"totalTestResults\": 45437, \"posNeg\": 45437, \"fips\": \"36\", \"deathIncrease\": 9.0, \"hospitalizedIncrease\": 1603.0, \"negativeIncrease\": 9756.0, \"positiveIncrease\": 3254.0, \"totalTestResultsIncrease\": 13010.0}, {\"date\": \"2020-03-20T00:00:00\", \"state\": \"CA\", \"positive\": 1063.0, \"negative\": 10424.0, \"pending\": null, \"hospitalizedCurrently\": null, \"hospitalizedCumulative\": null, \"inIcuCurrently\": null, \"inIcuCumulative\": null, \"onVentilatorCurrently\": null, \"onVentilatorCumulative\": null, \"recovered\": null, \"hash\": \"22cfcbb820f66309386b4bdfdf47a806dd894a62\", \"dateChecked\": \"2020-03-20T20:00:00Z\", \"death\": 20.0, \"hospitalized\": null, \"total\": 11487, \"totalTestResults\": 11487, \"posNeg\": 11487, \"fips\": \"06\", \"deathIncrease\": 2.0, \"hospitalizedIncrease\": 0.0, \"negativeIncrease\": 1637.0, \"positiveIncrease\": 139.0, \"totalTestResultsIncrease\": 1776.0}, {\"date\": \"2020-03-20T00:00:00\", \"state\": \"NY\", \"positive\": 7102.0, \"negative\": 25325.0, \"pending\": null, \"hospitalizedCurrently\": null, \"hospitalizedCumulative\": null, \"inIcuCurrently\": null, \"inIcuCumulative\": null, \"onVentilatorCurrently\": null, \"onVentilatorCumulative\": null, \"recovered\": null, \"hash\": \"5293b5c5920709d4f3cf66b901621a61a47d0d23\", \"dateChecked\": \"2020-03-20T20:00:00Z\", \"death\": 35.0, \"hospitalized\": null, \"total\": 32427, \"totalTestResults\": 32427, \"posNeg\": 32427, \"fips\": \"36\", \"deathIncrease\": 23.0, \"hospitalizedIncrease\": 0.0, \"negativeIncrease\": 7193.0, \"positiveIncrease\": 2950.0, \"totalTestResultsIncrease\": 10143.0}, {\"date\": \"2020-03-19T00:00:00\", \"state\": \"CA\", \"positive\": 924.0, \"negative\": 8787.0, \"pending\": null, \"hospitalizedCurrently\": null, \"hospitalizedCumulative\": null, \"inIcuCurrently\": null, \"inIcuCumulative\": null, \"onVentilatorCurrently\": null, \"onVentilatorCumulative\": null, \"recovered\": null, \"hash\": \"b9c67f8fde621d5bb8895c6a6fcbdcf8440ccf2a\", \"dateChecked\": \"2020-03-19T20:00:00Z\", \"death\": 18.0, \"hospitalized\": null, \"total\": 9711, \"totalTestResults\": 9711, \"posNeg\": 9711, \"fips\": \"06\", \"deathIncrease\": 5.0, \"hospitalizedIncrease\": 0.0, \"negativeIncrease\": 806.0, \"positiveIncrease\": 313.0, \"totalTestResultsIncrease\": 1119.0}, {\"date\": \"2020-03-19T00:00:00\", \"state\": \"NY\", \"positive\": 4152.0, \"negative\": 18132.0, \"pending\": null, \"hospitalizedCurrently\": null, \"hospitalizedCumulative\": null, \"inIcuCurrently\": null, \"inIcuCumulative\": null, \"onVentilatorCurrently\": null, \"onVentilatorCumulative\": null, \"recovered\": null, \"hash\": \"2eabc9b73139066e3613021b1e9c9deaf8af733c\", \"dateChecked\": \"2020-03-19T20:00:00Z\", \"death\": 12.0, \"hospitalized\": null, \"total\": 22284, \"totalTestResults\": 22284, \"posNeg\": 22284, \"fips\": \"36\", \"deathIncrease\": 0.0, \"hospitalizedIncrease\": 0.0, \"negativeIncrease\": 5917.0, \"positiveIncrease\": 1770.0, \"totalTestResultsIncrease\": 7687.0}, {\"date\": \"2020-03-18T00:00:00\", \"state\": \"CA\", \"positive\": 611.0, \"negative\": 7981.0, \"pending\": null, \"hospitalizedCurrently\": null, \"hospitalizedCumulative\": null, \"inIcuCurrently\": null, \"inIcuCumulative\": null, \"onVentilatorCurrently\": null, \"onVentilatorCumulative\": null, \"recovered\": null, \"hash\": \"646da42647f99037e2c2b31faf21a04c5b5ff197\", \"dateChecked\": \"2020-03-18T20:00:00Z\", \"death\": 13.0, \"hospitalized\": null, \"total\": 8592, \"totalTestResults\": 8592, \"posNeg\": 8592, \"fips\": \"06\", \"deathIncrease\": 2.0, \"hospitalizedIncrease\": 0.0, \"negativeIncrease\": 0.0, \"positiveIncrease\": 128.0, \"totalTestResultsIncrease\": 128.0}, {\"date\": \"2020-03-18T00:00:00\", \"state\": \"NY\", \"positive\": 2382.0, \"negative\": 12215.0, \"pending\": null, \"hospitalizedCurrently\": null, \"hospitalizedCumulative\": null, \"inIcuCurrently\": null, \"inIcuCumulative\": null, \"onVentilatorCurrently\": null, \"onVentilatorCumulative\": null, \"recovered\": null, \"hash\": \"65a08e6a0f81bd2c4bbc9988a17f0892d2ec4d35\", \"dateChecked\": \"2020-03-18T20:00:00Z\", \"death\": 12.0, \"hospitalized\": null, \"total\": 14597, \"totalTestResults\": 14597, \"posNeg\": 14597, \"fips\": \"36\", \"deathIncrease\": 5.0, \"hospitalizedIncrease\": 0.0, \"negativeIncrease\": 6709.0, \"positiveIncrease\": 682.0, \"totalTestResultsIncrease\": 7391.0}, {\"date\": \"2020-03-17T00:00:00\", \"state\": \"CA\", \"positive\": 483.0, \"negative\": 7981.0, \"pending\": null, \"hospitalizedCurrently\": null, \"hospitalizedCumulative\": null, \"inIcuCurrently\": null, \"inIcuCumulative\": null, \"onVentilatorCurrently\": null, \"onVentilatorCumulative\": null, \"recovered\": null, \"hash\": \"3a5a29b79b4583de68455525d065127db6a3e97b\", \"dateChecked\": \"2020-03-17T20:00:00Z\", \"death\": 11.0, \"hospitalized\": null, \"total\": 8464, \"totalTestResults\": 8464, \"posNeg\": 8464, \"fips\": \"06\", \"deathIncrease\": 5.0, \"hospitalizedIncrease\": 0.0, \"negativeIncrease\": 0.0, \"positiveIncrease\": 148.0, \"totalTestResultsIncrease\": 148.0}, {\"date\": \"2020-03-17T00:00:00\", \"state\": \"NY\", \"positive\": 1700.0, \"negative\": 5506.0, \"pending\": null, \"hospitalizedCurrently\": null, \"hospitalizedCumulative\": null, \"inIcuCurrently\": null, \"inIcuCumulative\": null, \"onVentilatorCurrently\": null, \"onVentilatorCumulative\": null, \"recovered\": null, \"hash\": \"a2d96e7a962926fa3165aef038360c097b6be4ce\", \"dateChecked\": \"2020-03-17T20:00:00Z\", \"death\": 7.0, \"hospitalized\": null, \"total\": 7206, \"totalTestResults\": 7206, \"posNeg\": 7206, \"fips\": \"36\", \"deathIncrease\": 0.0, \"hospitalizedIncrease\": 0.0, \"negativeIncrease\": 963.0, \"positiveIncrease\": 750.0, \"totalTestResultsIncrease\": 1713.0}, {\"date\": \"2020-03-16T00:00:00\", \"state\": \"CA\", \"positive\": 335.0, \"negative\": 7981.0, \"pending\": null, \"hospitalizedCurrently\": null, \"hospitalizedCumulative\": null, \"inIcuCurrently\": null, \"inIcuCumulative\": null, \"onVentilatorCurrently\": null, \"onVentilatorCumulative\": null, \"recovered\": null, \"hash\": \"ae22555d7ccc020a6fc6268f759c981a681af584\", \"dateChecked\": \"2020-03-16T20:00:00Z\", \"death\": 6.0, \"hospitalized\": null, \"total\": 8316, \"totalTestResults\": 8316, \"posNeg\": 8316, \"fips\": \"06\", \"deathIncrease\": 1.0, \"hospitalizedIncrease\": 0.0, \"negativeIncrease\": 7065.0, \"positiveIncrease\": 42.0, \"totalTestResultsIncrease\": 7107.0}, {\"date\": \"2020-03-16T00:00:00\", \"state\": \"NY\", \"positive\": 950.0, \"negative\": 4543.0, \"pending\": null, \"hospitalizedCurrently\": null, \"hospitalizedCumulative\": null, \"inIcuCurrently\": null, \"inIcuCumulative\": null, \"onVentilatorCurrently\": null, \"onVentilatorCumulative\": null, \"recovered\": null, \"hash\": \"994a65ba75be3681f76ff4612eb8fde85cff81cd\", \"dateChecked\": \"2020-03-16T20:00:00Z\", \"death\": 7.0, \"hospitalized\": null, \"total\": 5493, \"totalTestResults\": 5493, \"posNeg\": 5493, \"fips\": \"36\", \"deathIncrease\": 4.0, \"hospitalizedIncrease\": 0.0, \"negativeIncrease\": 0.0, \"positiveIncrease\": 221.0, \"totalTestResultsIncrease\": 221.0}, {\"date\": \"2020-03-15T00:00:00\", \"state\": \"CA\", \"positive\": 293.0, \"negative\": 916.0, \"pending\": null, \"hospitalizedCurrently\": null, \"hospitalizedCumulative\": null, \"inIcuCurrently\": null, \"inIcuCumulative\": null, \"onVentilatorCurrently\": null, \"onVentilatorCumulative\": null, \"recovered\": null, \"hash\": \"5e5e85687553cddbfc767524eedc40d04efeb98a\", \"dateChecked\": \"2020-03-15T20:00:00Z\", \"death\": 5.0, \"hospitalized\": null, \"total\": 1209, \"totalTestResults\": 1209, \"posNeg\": 1209, \"fips\": \"06\", \"deathIncrease\": 0.0, \"hospitalizedIncrease\": 0.0, \"negativeIncrease\": 0.0, \"positiveIncrease\": 41.0, \"totalTestResultsIncrease\": 41.0}, {\"date\": \"2020-03-15T00:00:00\", \"state\": \"NY\", \"positive\": 729.0, \"negative\": 4543.0, \"pending\": null, \"hospitalizedCurrently\": null, \"hospitalizedCumulative\": null, \"inIcuCurrently\": null, \"inIcuCumulative\": null, \"onVentilatorCurrently\": null, \"onVentilatorCumulative\": null, \"recovered\": null, \"hash\": \"963f632b5d1577cd5cf9b6c332a912c2fdebea16\", \"dateChecked\": \"2020-03-15T20:00:00Z\", \"death\": 3.0, \"hospitalized\": null, \"total\": 5272, \"totalTestResults\": 5272, \"posNeg\": 5272, \"fips\": \"36\", \"deathIncrease\": 3.0, \"hospitalizedIncrease\": 0.0, \"negativeIncrease\": 1764.0, \"positiveIncrease\": 205.0, \"totalTestResultsIncrease\": 1969.0}, {\"date\": \"2020-03-14T00:00:00\", \"state\": \"CA\", \"positive\": 252.0, \"negative\": 916.0, \"pending\": null, \"hospitalizedCurrently\": null, \"hospitalizedCumulative\": null, \"inIcuCurrently\": null, \"inIcuCumulative\": null, \"onVentilatorCurrently\": null, \"onVentilatorCumulative\": null, \"recovered\": null, \"hash\": \"bfe38009fc5e230d310f823f106a0947b1a2bce3\", \"dateChecked\": \"2020-03-14T20:00:00Z\", \"death\": 5.0, \"hospitalized\": null, \"total\": 1168, \"totalTestResults\": 1168, \"posNeg\": 1168, \"fips\": \"06\", \"deathIncrease\": 1.0, \"hospitalizedIncrease\": 0.0, \"negativeIncrease\": 0.0, \"positiveIncrease\": 50.0, \"totalTestResultsIncrease\": 50.0}, {\"date\": \"2020-03-14T00:00:00\", \"state\": \"NY\", \"positive\": 524.0, \"negative\": 2779.0, \"pending\": null, \"hospitalizedCurrently\": null, \"hospitalizedCumulative\": null, \"inIcuCurrently\": null, \"inIcuCumulative\": null, \"onVentilatorCurrently\": null, \"onVentilatorCumulative\": null, \"recovered\": null, \"hash\": \"f28c39ca671c26d022ff2556494ad8767765eb93\", \"dateChecked\": \"2020-03-14T20:00:00Z\", \"death\": null, \"hospitalized\": null, \"total\": 3303, \"totalTestResults\": 3303, \"posNeg\": 3303, \"fips\": \"36\", \"deathIncrease\": 0.0, \"hospitalizedIncrease\": 0.0, \"negativeIncrease\": 0.0, \"positiveIncrease\": 103.0, \"totalTestResultsIncrease\": 103.0}, {\"date\": \"2020-03-13T00:00:00\", \"state\": \"CA\", \"positive\": 202.0, \"negative\": 916.0, \"pending\": null, \"hospitalizedCurrently\": null, \"hospitalizedCumulative\": null, \"inIcuCurrently\": null, \"inIcuCumulative\": null, \"onVentilatorCurrently\": null, \"onVentilatorCumulative\": null, \"recovered\": null, \"hash\": \"bb817225b0e56a4c1051b2e6550b5ae85e06487c\", \"dateChecked\": \"2020-03-13T20:00:00Z\", \"death\": 4.0, \"hospitalized\": null, \"total\": 1118, \"totalTestResults\": 1118, \"posNeg\": 1118, \"fips\": \"06\", \"deathIncrease\": 0.0, \"hospitalizedIncrease\": 0.0, \"negativeIncrease\": 0.0, \"positiveIncrease\": 0.0, \"totalTestResultsIncrease\": 0.0}, {\"date\": \"2020-03-13T00:00:00\", \"state\": \"NY\", \"positive\": 421.0, \"negative\": 2779.0, \"pending\": null, \"hospitalizedCurrently\": null, \"hospitalizedCumulative\": null, \"inIcuCurrently\": null, \"inIcuCumulative\": null, \"onVentilatorCurrently\": null, \"onVentilatorCumulative\": null, \"recovered\": null, \"hash\": \"a0a0e2997c411014ef2cd98b9502387730f585c7\", \"dateChecked\": \"2020-03-13T20:00:00Z\", \"death\": null, \"hospitalized\": null, \"total\": 3200, \"totalTestResults\": 3200, \"posNeg\": 3200, \"fips\": \"36\", \"deathIncrease\": 0.0, \"hospitalizedIncrease\": 0.0, \"negativeIncrease\": 2687.0, \"positiveIncrease\": 205.0, \"totalTestResultsIncrease\": 2892.0}, {\"date\": \"2020-03-12T00:00:00\", \"state\": \"CA\", \"positive\": 202.0, \"negative\": 916.0, \"pending\": null, \"hospitalizedCurrently\": null, \"hospitalizedCumulative\": null, \"inIcuCurrently\": null, \"inIcuCumulative\": null, \"onVentilatorCurrently\": null, \"onVentilatorCumulative\": null, \"recovered\": null, \"hash\": \"8dd3541eb41a6171cc6bbf05632f8d9bb4570490\", \"dateChecked\": \"2020-03-12T20:00:00Z\", \"death\": 4.0, \"hospitalized\": null, \"total\": 1118, \"totalTestResults\": 1118, \"posNeg\": 1118, \"fips\": \"06\", \"deathIncrease\": 4.0, \"hospitalizedIncrease\": 0.0, \"negativeIncrease\": 0.0, \"positiveIncrease\": 45.0, \"totalTestResultsIncrease\": 45.0}, {\"date\": \"2020-03-12T00:00:00\", \"state\": \"NY\", \"positive\": 216.0, \"negative\": 92.0, \"pending\": null, \"hospitalizedCurrently\": null, \"hospitalizedCumulative\": null, \"inIcuCurrently\": null, \"inIcuCumulative\": null, \"onVentilatorCurrently\": null, \"onVentilatorCumulative\": null, \"recovered\": null, \"hash\": \"78ea2217b81c0eba25ec04b1196199ad81793ead\", \"dateChecked\": \"2020-03-12T20:00:00Z\", \"death\": null, \"hospitalized\": null, \"total\": 308, \"totalTestResults\": 308, \"posNeg\": 308, \"fips\": \"36\", \"deathIncrease\": 0.0, \"hospitalizedIncrease\": 0.0, \"negativeIncrease\": 0.0, \"positiveIncrease\": 0.0, \"totalTestResultsIncrease\": 0.0}, {\"date\": \"2020-03-11T00:00:00\", \"state\": \"CA\", \"positive\": 157.0, \"negative\": 916.0, \"pending\": null, \"hospitalizedCurrently\": null, \"hospitalizedCumulative\": null, \"inIcuCurrently\": null, \"inIcuCumulative\": null, \"onVentilatorCurrently\": null, \"onVentilatorCumulative\": null, \"recovered\": null, \"hash\": \"5b964b8b4ae1c9c7ef6daba3357363e3abc15fc2\", \"dateChecked\": \"2020-03-11T20:00:00Z\", \"death\": null, \"hospitalized\": null, \"total\": 1073, \"totalTestResults\": 1073, \"posNeg\": 1073, \"fips\": \"06\", \"deathIncrease\": 0.0, \"hospitalizedIncrease\": 0.0, \"negativeIncrease\": 226.0, \"positiveIncrease\": 24.0, \"totalTestResultsIncrease\": 250.0}, {\"date\": \"2020-03-11T00:00:00\", \"state\": \"NY\", \"positive\": 216.0, \"negative\": 92.0, \"pending\": null, \"hospitalizedCurrently\": null, \"hospitalizedCumulative\": null, \"inIcuCurrently\": null, \"inIcuCumulative\": null, \"onVentilatorCurrently\": null, \"onVentilatorCumulative\": null, \"recovered\": null, \"hash\": \"6fbded3854324c39522ab7fdb01d2087f60e2d2b\", \"dateChecked\": \"2020-03-11T20:00:00Z\", \"death\": null, \"hospitalized\": null, \"total\": 308, \"totalTestResults\": 308, \"posNeg\": 308, \"fips\": \"36\", \"deathIncrease\": 0.0, \"hospitalizedIncrease\": 0.0, \"negativeIncrease\": 0.0, \"positiveIncrease\": 43.0, \"totalTestResultsIncrease\": 43.0}, {\"date\": \"2020-03-10T00:00:00\", \"state\": \"CA\", \"positive\": 133.0, \"negative\": 690.0, \"pending\": null, \"hospitalizedCurrently\": null, \"hospitalizedCumulative\": null, \"inIcuCurrently\": null, \"inIcuCumulative\": null, \"onVentilatorCurrently\": null, \"onVentilatorCumulative\": null, \"recovered\": null, \"hash\": \"0d0ac26ba210e002c4cef8b50e8305df0d25daea\", \"dateChecked\": \"2020-03-10T20:00:00Z\", \"death\": null, \"hospitalized\": null, \"total\": 823, \"totalTestResults\": 823, \"posNeg\": 823, \"fips\": \"06\", \"deathIncrease\": 0.0, \"hospitalizedIncrease\": 0.0, \"negativeIncrease\": 0.0, \"positiveIncrease\": 19.0, \"totalTestResultsIncrease\": 19.0}, {\"date\": \"2020-03-10T00:00:00\", \"state\": \"NY\", \"positive\": 173.0, \"negative\": 92.0, \"pending\": null, \"hospitalizedCurrently\": null, \"hospitalizedCumulative\": null, \"inIcuCurrently\": null, \"inIcuCumulative\": null, \"onVentilatorCurrently\": null, \"onVentilatorCumulative\": null, \"recovered\": null, \"hash\": \"193f85893cecb99d063a03060bc4802d2d6458f1\", \"dateChecked\": \"2020-03-10T20:00:00Z\", \"death\": null, \"hospitalized\": null, \"total\": 265, \"totalTestResults\": 265, \"posNeg\": 265, \"fips\": \"36\", \"deathIncrease\": 0.0, \"hospitalizedIncrease\": 0.0, \"negativeIncrease\": 0.0, \"positiveIncrease\": 31.0, \"totalTestResultsIncrease\": 31.0}, {\"date\": \"2020-03-09T00:00:00\", \"state\": \"CA\", \"positive\": 114.0, \"negative\": 690.0, \"pending\": null, \"hospitalizedCurrently\": null, \"hospitalizedCumulative\": null, \"inIcuCurrently\": null, \"inIcuCumulative\": null, \"onVentilatorCurrently\": null, \"onVentilatorCumulative\": null, \"recovered\": null, \"hash\": \"6af63e3581f76d44b6446c5c221d5a2dd96f5a24\", \"dateChecked\": \"2020-03-09T20:00:00Z\", \"death\": null, \"hospitalized\": null, \"total\": 804, \"totalTestResults\": 804, \"posNeg\": 804, \"fips\": \"06\", \"deathIncrease\": 0.0, \"hospitalizedIncrease\": 0.0, \"negativeIncrease\": 228.0, \"positiveIncrease\": 26.0, \"totalTestResultsIncrease\": 254.0}, {\"date\": \"2020-03-09T00:00:00\", \"state\": \"NY\", \"positive\": 142.0, \"negative\": 92.0, \"pending\": null, \"hospitalizedCurrently\": null, \"hospitalizedCumulative\": null, \"inIcuCurrently\": null, \"inIcuCumulative\": null, \"onVentilatorCurrently\": null, \"onVentilatorCumulative\": null, \"recovered\": null, \"hash\": \"260a070d28ed40a35e8b31aca5f4ab3352dc9ba8\", \"dateChecked\": \"2020-03-09T20:00:00Z\", \"death\": null, \"hospitalized\": null, \"total\": 234, \"totalTestResults\": 234, \"posNeg\": 234, \"fips\": \"36\", \"deathIncrease\": 0.0, \"hospitalizedIncrease\": 0.0, \"negativeIncrease\": 0.0, \"positiveIncrease\": 37.0, \"totalTestResultsIncrease\": 37.0}, {\"date\": \"2020-03-08T00:00:00\", \"state\": \"CA\", \"positive\": 88.0, \"negative\": 462.0, \"pending\": null, \"hospitalizedCurrently\": null, \"hospitalizedCumulative\": null, \"inIcuCurrently\": null, \"inIcuCumulative\": null, \"onVentilatorCurrently\": null, \"onVentilatorCumulative\": null, \"recovered\": null, \"hash\": \"39ba303e6c33d759f657dfaa835f2714a49ecc37\", \"dateChecked\": \"2020-03-08T20:00:00Z\", \"death\": null, \"hospitalized\": null, \"total\": 550, \"totalTestResults\": 550, \"posNeg\": 550, \"fips\": \"06\", \"deathIncrease\": 0.0, \"hospitalizedIncrease\": 0.0, \"negativeIncrease\": 0.0, \"positiveIncrease\": 19.0, \"totalTestResultsIncrease\": 19.0}, {\"date\": \"2020-03-08T00:00:00\", \"state\": \"NY\", \"positive\": 105.0, \"negative\": 92.0, \"pending\": null, \"hospitalizedCurrently\": null, \"hospitalizedCumulative\": null, \"inIcuCurrently\": null, \"inIcuCumulative\": null, \"onVentilatorCurrently\": null, \"onVentilatorCumulative\": null, \"recovered\": null, \"hash\": \"f6d3b78f41cadeaf08e72f35692a9619d70aad07\", \"dateChecked\": \"2020-03-08T20:00:00Z\", \"death\": null, \"hospitalized\": null, \"total\": 197, \"totalTestResults\": 197, \"posNeg\": 197, \"fips\": \"36\", \"deathIncrease\": 0.0, \"hospitalizedIncrease\": 0.0, \"negativeIncrease\": 0.0, \"positiveIncrease\": 29.0, \"totalTestResultsIncrease\": 29.0}, {\"date\": \"2020-03-07T00:00:00\", \"state\": \"CA\", \"positive\": 69.0, \"negative\": 462.0, \"pending\": null, \"hospitalizedCurrently\": null, \"hospitalizedCumulative\": null, \"inIcuCurrently\": null, \"inIcuCumulative\": null, \"onVentilatorCurrently\": null, \"onVentilatorCumulative\": null, \"recovered\": null, \"hash\": \"311a213f5744c6b33147c107519218e8d9f55d23\", \"dateChecked\": \"2020-03-07T21:00:00Z\", \"death\": null, \"hospitalized\": null, \"total\": 531, \"totalTestResults\": 531, \"posNeg\": 531, \"fips\": \"06\", \"deathIncrease\": 0.0, \"hospitalizedIncrease\": 0.0, \"negativeIncrease\": 0.0, \"positiveIncrease\": 9.0, \"totalTestResultsIncrease\": 9.0}, {\"date\": \"2020-03-07T00:00:00\", \"state\": \"NY\", \"positive\": 76.0, \"negative\": 92.0, \"pending\": 236.0, \"hospitalizedCurrently\": null, \"hospitalizedCumulative\": null, \"inIcuCurrently\": null, \"inIcuCumulative\": null, \"onVentilatorCurrently\": null, \"onVentilatorCumulative\": null, \"recovered\": null, \"hash\": \"53a82f90b4d4a28a5b06248b1e4c78e9229312dd\", \"dateChecked\": \"2020-03-07T21:00:00Z\", \"death\": null, \"hospitalized\": null, \"total\": 404, \"totalTestResults\": 168, \"posNeg\": 168, \"fips\": \"36\", \"deathIncrease\": 0.0, \"hospitalizedIncrease\": 0.0, \"negativeIncrease\": 0.0, \"positiveIncrease\": 43.0, \"totalTestResultsIncrease\": 43.0}, {\"date\": \"2020-03-06T00:00:00\", \"state\": \"CA\", \"positive\": 60.0, \"negative\": 462.0, \"pending\": null, \"hospitalizedCurrently\": null, \"hospitalizedCumulative\": null, \"inIcuCurrently\": null, \"inIcuCumulative\": null, \"onVentilatorCurrently\": null, \"onVentilatorCumulative\": null, \"recovered\": null, \"hash\": \"ed5984edee3bf6ee9bc3b89bc15e52f3bdade592\", \"dateChecked\": \"2020-03-06T21:00:00Z\", \"death\": null, \"hospitalized\": null, \"total\": 522, \"totalTestResults\": 522, \"posNeg\": 522, \"fips\": \"06\", \"deathIncrease\": 0.0, \"hospitalizedIncrease\": 0.0, \"negativeIncrease\": 0.0, \"positiveIncrease\": 7.0, \"totalTestResultsIncrease\": 7.0}, {\"date\": \"2020-03-06T00:00:00\", \"state\": \"NY\", \"positive\": 33.0, \"negative\": 92.0, \"pending\": 236.0, \"hospitalizedCurrently\": null, \"hospitalizedCumulative\": null, \"inIcuCurrently\": null, \"inIcuCumulative\": null, \"onVentilatorCurrently\": null, \"onVentilatorCumulative\": null, \"recovered\": null, \"hash\": \"18e7306085561597629e7ffac110572b1aa9f9e5\", \"dateChecked\": \"2020-03-06T21:00:00Z\", \"death\": null, \"hospitalized\": null, \"total\": 361, \"totalTestResults\": 125, \"posNeg\": 125, \"fips\": \"36\", \"deathIncrease\": 0.0, \"hospitalizedIncrease\": 0.0, \"negativeIncrease\": 16.0, \"positiveIncrease\": 11.0, \"totalTestResultsIncrease\": 27.0}, {\"date\": \"2020-03-05T00:00:00\", \"state\": \"CA\", \"positive\": 53.0, \"negative\": 462.0, \"pending\": null, \"hospitalizedCurrently\": null, \"hospitalizedCumulative\": null, \"inIcuCurrently\": null, \"inIcuCumulative\": null, \"onVentilatorCurrently\": null, \"onVentilatorCumulative\": null, \"recovered\": null, \"hash\": \"ce0755ed64d8d97da631569ac60cacb5e301a000\", \"dateChecked\": \"2020-03-05T21:00:00Z\", \"death\": null, \"hospitalized\": null, \"total\": 515, \"totalTestResults\": 515, \"posNeg\": 515, \"fips\": \"06\", \"deathIncrease\": 0.0, \"hospitalizedIncrease\": 0.0, \"negativeIncrease\": 0.0, \"positiveIncrease\": 0.0, \"totalTestResultsIncrease\": 0.0}, {\"date\": \"2020-03-05T00:00:00\", \"state\": \"NY\", \"positive\": 22.0, \"negative\": 76.0, \"pending\": 24.0, \"hospitalizedCurrently\": null, \"hospitalizedCumulative\": null, \"inIcuCurrently\": null, \"inIcuCumulative\": null, \"onVentilatorCurrently\": null, \"onVentilatorCumulative\": null, \"recovered\": null, \"hash\": \"a5eb1a3c895ee3acd8c87b19363bab6d581b3933\", \"dateChecked\": \"2020-03-05T21:00:00Z\", \"death\": null, \"hospitalized\": null, \"total\": 122, \"totalTestResults\": 98, \"posNeg\": 98, \"fips\": \"36\", \"deathIncrease\": 0.0, \"hospitalizedIncrease\": 0.0, \"negativeIncrease\": 28.0, \"positiveIncrease\": 16.0, \"totalTestResultsIncrease\": 44.0}, {\"date\": \"2020-03-04T00:00:00\", \"state\": \"CA\", \"positive\": 53.0, \"negative\": 462.0, \"pending\": null, \"hospitalizedCurrently\": null, \"hospitalizedCumulative\": null, \"inIcuCurrently\": null, \"inIcuCumulative\": null, \"onVentilatorCurrently\": null, \"onVentilatorCumulative\": null, \"recovered\": null, \"hash\": \"e89c69dcaf7f202257af579a58f86c340eee886a\", \"dateChecked\": \"2020-03-04T21:00:00Z\", \"death\": null, \"hospitalized\": null, \"total\": 515, \"totalTestResults\": 515, \"posNeg\": 515, \"fips\": \"06\", \"deathIncrease\": null, \"hospitalizedIncrease\": null, \"negativeIncrease\": null, \"positiveIncrease\": null, \"totalTestResultsIncrease\": null}, {\"date\": \"2020-03-04T00:00:00\", \"state\": \"NY\", \"positive\": 6.0, \"negative\": 48.0, \"pending\": 24.0, \"hospitalizedCurrently\": null, \"hospitalizedCumulative\": null, \"inIcuCurrently\": null, \"inIcuCumulative\": null, \"onVentilatorCurrently\": null, \"onVentilatorCumulative\": null, \"recovered\": null, \"hash\": \"0e095e2b3db515b00d892276e6cac6912b1e0111\", \"dateChecked\": \"2020-03-04T21:00:00Z\", \"death\": null, \"hospitalized\": null, \"total\": 78, \"totalTestResults\": 54, \"posNeg\": 54, \"fips\": \"36\", \"deathIncrease\": null, \"hospitalizedIncrease\": null, \"negativeIncrease\": null, \"positiveIncrease\": null, \"totalTestResultsIncrease\": null}]}}, {\"mode\": \"vega-lite\"});\n",
       "</script>"
      ],
      "text/plain": [
       "alt.LayerChart(...)"
      ]
     },
     "execution_count": 7,
     "metadata": {},
     "output_type": "execute_result"
    }
   ],
   "source": [
    "#hide_input\n",
    "\n",
    "makeChart(deathsAdded)"
   ]
  },
  {
   "cell_type": "code",
   "execution_count": 8,
   "metadata": {
    "colab": {
     "base_uri": "https://localhost:8080/",
     "height": 373
    },
    "colab_type": "code",
    "execution": {
     "iopub.execute_input": "2020-04-04T12:09:22.046635Z",
     "iopub.status.busy": "2020-04-04T12:09:22.043847Z",
     "iopub.status.idle": "2020-04-04T12:09:22.088383Z",
     "shell.execute_reply": "2020-04-04T12:09:22.086925Z"
    },
    "id": "wtTA1ZJS6Ftq",
    "outputId": "c5273dbe-4b03-45b9-8011-882eabef2279",
    "papermill": {
     "duration": 0.081764,
     "end_time": "2020-04-04T12:09:22.088555",
     "exception": false,
     "start_time": "2020-04-04T12:09:22.006791",
     "status": "completed"
    },
    "tags": []
   },
   "outputs": [
    {
     "data": {
      "text/html": [
       "\n",
       "<div id=\"altair-viz-82b240fd9edf4feea945a36d39db094c\"></div>\n",
       "<script type=\"text/javascript\">\n",
       "  (function(spec, embedOpt){\n",
       "    let outputDiv = document.currentScript.previousElementSibling;\n",
       "    if (outputDiv.id !== \"altair-viz-82b240fd9edf4feea945a36d39db094c\") {\n",
       "      outputDiv = document.getElementById(\"altair-viz-82b240fd9edf4feea945a36d39db094c\");\n",
       "    }\n",
       "    const paths = {\n",
       "      \"vega\": \"https://cdn.jsdelivr.net/npm//vega@5?noext\",\n",
       "      \"vega-lib\": \"https://cdn.jsdelivr.net/npm//vega-lib?noext\",\n",
       "      \"vega-lite\": \"https://cdn.jsdelivr.net/npm//vega-lite@4.8.1?noext\",\n",
       "      \"vega-embed\": \"https://cdn.jsdelivr.net/npm//vega-embed@6?noext\",\n",
       "    };\n",
       "\n",
       "    function loadScript(lib) {\n",
       "      return new Promise(function(resolve, reject) {\n",
       "        var s = document.createElement('script');\n",
       "        s.src = paths[lib];\n",
       "        s.async = true;\n",
       "        s.onload = () => resolve(paths[lib]);\n",
       "        s.onerror = () => reject(`Error loading script: ${paths[lib]}`);\n",
       "        document.getElementsByTagName(\"head\")[0].appendChild(s);\n",
       "      });\n",
       "    }\n",
       "\n",
       "    function showError(err) {\n",
       "      outputDiv.innerHTML = `<div class=\"error\" style=\"color:red;\">${err}</div>`;\n",
       "      throw err;\n",
       "    }\n",
       "\n",
       "    function displayChart(vegaEmbed) {\n",
       "      vegaEmbed(outputDiv, spec, embedOpt)\n",
       "        .catch(err => showError(`Javascript Error: ${err.message}<br>This usually means there's a typo in your chart specification. See the javascript console for the full traceback.`));\n",
       "    }\n",
       "\n",
       "    if(typeof define === \"function\" && define.amd) {\n",
       "      requirejs.config({paths});\n",
       "      require([\"vega-embed\"], displayChart, err => showError(`Error loading script: ${err.message}`));\n",
       "    } else if (typeof vegaEmbed === \"function\") {\n",
       "      displayChart(vegaEmbed);\n",
       "    } else {\n",
       "      loadScript(\"vega\")\n",
       "        .then(() => loadScript(\"vega-lite\"))\n",
       "        .then(() => loadScript(\"vega-embed\"))\n",
       "        .catch(showError)\n",
       "        .then(() => displayChart(vegaEmbed));\n",
       "    }\n",
       "  })({\"config\": {\"view\": {\"continuousWidth\": 400, \"continuousHeight\": 300, \"strokeWidth\": 0}, \"axis\": {\"grid\": false}, \"axisX\": {\"labelPadding\": 5, \"title\": null}, \"axisY\": {\"domainOpacity\": 0, \"labels\": false, \"orient\": \"right\", \"ticks\": false, \"title\": null}, \"legend\": {\"labelColor\": \"#7f7f7f\", \"labelFontSize\": 15, \"orient\": \"left\", \"symbolType\": \"square\", \"title\": null}, \"title\": {\"anchor\": \"middle\", \"color\": \"#7f7f7f\", \"dx\": 10, \"fontSize\": 17}}, \"layer\": [{\"mark\": {\"type\": \"line\", \"interpolate\": \"step-after\"}, \"encoding\": {\"color\": {\"type\": \"nominal\", \"field\": \"state\", \"scale\": {\"domain\": [\"CA\", \"NY\"], \"range\": [\"#ff8f8f\", \"#036aff\"]}}, \"x\": {\"type\": \"temporal\", \"axis\": {\"format\": \"%b %d\"}, \"field\": \"date\"}, \"y\": {\"type\": \"quantitative\", \"field\": \"positiveIncrease\"}}, \"title\": \"Positive cases added per day\", \"transform\": [{\"fold\": [\"CA\", \"NY\"]}], \"width\": 700}, {\"mark\": {\"type\": \"text\", \"align\": \"center\", \"baseline\": \"bottom\", \"dy\": -5}, \"encoding\": {\"color\": {\"type\": \"nominal\", \"field\": \"state\", \"scale\": {\"domain\": [\"CA\", \"NY\"], \"range\": [\"#ff8f8f\", \"#036aff\"]}}, \"text\": {\"type\": \"quantitative\", \"field\": \"positiveIncrease\"}, \"x\": {\"type\": \"temporal\", \"axis\": {\"format\": \"%b %d\"}, \"field\": \"date\"}, \"y\": {\"type\": \"quantitative\", \"field\": \"positiveIncrease\"}}, \"title\": \"Positive cases added per day\", \"transform\": [{\"fold\": [\"CA\", \"NY\"]}], \"width\": 700}], \"data\": {\"name\": \"data-9ed4ee13bd3912b9c70496b32547925c\"}, \"$schema\": \"https://vega.github.io/schema/vega-lite/v4.8.1.json\", \"datasets\": {\"data-9ed4ee13bd3912b9c70496b32547925c\": [{\"date\": \"2020-04-03T00:00:00\", \"state\": \"CA\", \"positive\": 10701.0, \"negative\": 24599.0, \"pending\": 59500.0, \"hospitalizedCurrently\": 2188.0, \"hospitalizedCumulative\": null, \"inIcuCurrently\": 901.0, \"inIcuCumulative\": null, \"onVentilatorCurrently\": null, \"onVentilatorCumulative\": null, \"recovered\": null, \"hash\": \"67f105bfa3690e07b85e362a0c6c43aa796aba45\", \"dateChecked\": \"2020-04-03T20:00:00Z\", \"death\": 237.0, \"hospitalized\": null, \"total\": 94800, \"totalTestResults\": 35300, \"posNeg\": 35300, \"fips\": \"06\", \"deathIncrease\": 34.0, \"hospitalizedIncrease\": 0.0, \"negativeIncrease\": 790.0, \"positiveIncrease\": 1510.0, \"totalTestResultsIncrease\": 2300.0}, {\"date\": \"2020-04-03T00:00:00\", \"state\": \"NY\", \"positive\": 102863.0, \"negative\": 168139.0, \"pending\": null, \"hospitalizedCurrently\": 14810.0, \"hospitalizedCumulative\": 23696.0, \"inIcuCurrently\": 3731.0, \"inIcuCumulative\": null, \"onVentilatorCurrently\": null, \"onVentilatorCumulative\": null, \"recovered\": 8886.0, \"hash\": \"accc00cef8483cff65936c97844fa6aa44976324\", \"dateChecked\": \"2020-04-03T20:00:00Z\", \"death\": 2935.0, \"hospitalized\": 23696.0, \"total\": 271002, \"totalTestResults\": 271002, \"posNeg\": 271002, \"fips\": \"36\", \"deathIncrease\": 562.0, \"hospitalizedIncrease\": 2879.0, \"negativeIncrease\": 21555.0, \"positiveIncrease\": 10482.0, \"totalTestResultsIncrease\": 32037.0}, {\"date\": \"2020-04-02T00:00:00\", \"state\": \"CA\", \"positive\": 9191.0, \"negative\": 23809.0, \"pending\": 59500.0, \"hospitalizedCurrently\": 1922.0, \"hospitalizedCumulative\": null, \"inIcuCurrently\": 816.0, \"inIcuCumulative\": null, \"onVentilatorCurrently\": null, \"onVentilatorCumulative\": null, \"recovered\": null, \"hash\": \"99877fe91b05bb13daef3f63c02c50d2a271e7f5\", \"dateChecked\": \"2020-04-02T20:00:00Z\", \"death\": 203.0, \"hospitalized\": null, \"total\": 92500, \"totalTestResults\": 33000, \"posNeg\": 33000, \"fips\": \"06\", \"deathIncrease\": 32.0, \"hospitalizedIncrease\": 0.0, \"negativeIncrease\": 2037.0, \"positiveIncrease\": 1036.0, \"totalTestResultsIncrease\": 3073.0}, {\"date\": \"2020-04-02T00:00:00\", \"state\": \"NY\", \"positive\": 92381.0, \"negative\": 146584.0, \"pending\": null, \"hospitalizedCurrently\": 13383.0, \"hospitalizedCumulative\": 20817.0, \"inIcuCurrently\": 3396.0, \"inIcuCumulative\": null, \"onVentilatorCurrently\": null, \"onVentilatorCumulative\": null, \"recovered\": 7434.0, \"hash\": \"764d0566c27be04c416c502640d5fffbcb8cad26\", \"dateChecked\": \"2020-04-02T20:00:00Z\", \"death\": 2373.0, \"hospitalized\": 20817.0, \"total\": 238965, \"totalTestResults\": 238965, \"posNeg\": 238965, \"fips\": \"36\", \"deathIncrease\": 432.0, \"hospitalizedIncrease\": 2449.0, \"negativeIncrease\": 9416.0, \"positiveIncrease\": 8669.0, \"totalTestResultsIncrease\": 18085.0}, {\"date\": \"2020-04-01T00:00:00\", \"state\": \"CA\", \"positive\": 8155.0, \"negative\": 21772.0, \"pending\": 57400.0, \"hospitalizedCurrently\": 1855.0, \"hospitalizedCumulative\": 1855.0, \"inIcuCurrently\": 774.0, \"inIcuCumulative\": 774.0, \"onVentilatorCurrently\": null, \"onVentilatorCumulative\": null, \"recovered\": null, \"hash\": \"6fb93efce94c15c30e753005c45c7b45e390198c\", \"dateChecked\": \"2020-04-01T20:00:00Z\", \"death\": 171.0, \"hospitalized\": 1855.0, \"total\": 87327, \"totalTestResults\": 29927, \"posNeg\": 29927, \"fips\": \"06\", \"deathIncrease\": 18.0, \"hospitalizedIncrease\": 238.0, \"negativeIncrease\": 0.0, \"positiveIncrease\": 673.0, \"totalTestResultsIncrease\": 673.0}, {\"date\": \"2020-04-01T00:00:00\", \"state\": \"NY\", \"positive\": 83712.0, \"negative\": 137168.0, \"pending\": null, \"hospitalizedCurrently\": 12226.0, \"hospitalizedCumulative\": 18368.0, \"inIcuCurrently\": 3022.0, \"inIcuCumulative\": 3022.0, \"onVentilatorCurrently\": null, \"onVentilatorCumulative\": null, \"recovered\": 6142.0, \"hash\": \"bc022c8f01dbc1a4d1f046ebce21c18a7b42cfa6\", \"dateChecked\": \"2020-04-01T20:00:00Z\", \"death\": 1941.0, \"hospitalized\": 18368.0, \"total\": 220880, \"totalTestResults\": 220880, \"posNeg\": 220880, \"fips\": \"36\", \"deathIncrease\": 391.0, \"hospitalizedIncrease\": 2464.0, \"negativeIncrease\": 7777.0, \"positiveIncrease\": 7917.0, \"totalTestResultsIncrease\": 15694.0}, {\"date\": \"2020-03-31T00:00:00\", \"state\": \"CA\", \"positive\": 7482.0, \"negative\": 21772.0, \"pending\": 57400.0, \"hospitalizedCurrently\": 1617.0, \"hospitalizedCumulative\": 1617.0, \"inIcuCurrently\": 657.0, \"inIcuCumulative\": 657.0, \"onVentilatorCurrently\": null, \"onVentilatorCumulative\": null, \"recovered\": null, \"hash\": \"8aa120a4c2d14e4da8b37e1148edb1eec68c9797\", \"dateChecked\": \"2020-03-31T20:00:00Z\", \"death\": 153.0, \"hospitalized\": 1617.0, \"total\": 86654, \"totalTestResults\": 29254, \"posNeg\": 29254, \"fips\": \"06\", \"deathIncrease\": 20.0, \"hospitalizedIncrease\": 185.0, \"negativeIncrease\": 1223.0, \"positiveIncrease\": 1035.0, \"totalTestResultsIncrease\": 2258.0}, {\"date\": \"2020-03-31T00:00:00\", \"state\": \"NY\", \"positive\": 75795.0, \"negative\": 129391.0, \"pending\": null, \"hospitalizedCurrently\": 10929.0, \"hospitalizedCumulative\": 15904.0, \"inIcuCurrently\": 2710.0, \"inIcuCumulative\": 2710.0, \"onVentilatorCurrently\": null, \"onVentilatorCumulative\": null, \"recovered\": 4975.0, \"hash\": \"a3afdea93fae4daf8073978749d736d46e9134c6\", \"dateChecked\": \"2020-03-31T20:00:00Z\", \"death\": 1550.0, \"hospitalized\": 15904.0, \"total\": 205186, \"totalTestResults\": 205186, \"posNeg\": 205186, \"fips\": \"36\", \"deathIncrease\": 332.0, \"hospitalizedIncrease\": 2183.0, \"negativeIncrease\": 9420.0, \"positiveIncrease\": 9298.0, \"totalTestResultsIncrease\": 18718.0}, {\"date\": \"2020-03-30T00:00:00\", \"state\": \"CA\", \"positive\": 6447.0, \"negative\": 20549.0, \"pending\": 64400.0, \"hospitalizedCurrently\": 1432.0, \"hospitalizedCumulative\": 1432.0, \"inIcuCurrently\": 597.0, \"inIcuCumulative\": 597.0, \"onVentilatorCurrently\": null, \"onVentilatorCumulative\": null, \"recovered\": null, \"hash\": \"b2fd37c8b374d544e8f30c2b619be88799980737\", \"dateChecked\": \"2020-03-30T20:00:00Z\", \"death\": 133.0, \"hospitalized\": 1432.0, \"total\": 91396, \"totalTestResults\": 26996, \"posNeg\": 26996, \"fips\": \"06\", \"deathIncrease\": 10.0, \"hospitalizedIncrease\": 398.0, \"negativeIncrease\": 0.0, \"positiveIncrease\": 739.0, \"totalTestResultsIncrease\": 739.0}, {\"date\": \"2020-03-30T00:00:00\", \"state\": \"NY\", \"positive\": 66497.0, \"negative\": 119971.0, \"pending\": null, \"hospitalizedCurrently\": 9517.0, \"hospitalizedCumulative\": 13721.0, \"inIcuCurrently\": 2352.0, \"inIcuCumulative\": 2352.0, \"onVentilatorCurrently\": null, \"onVentilatorCumulative\": null, \"recovered\": 4204.0, \"hash\": \"a749060bc47c2573b505c13198673b348ed3cc2b\", \"dateChecked\": \"2020-03-30T20:00:00Z\", \"death\": 1218.0, \"hospitalized\": 13721.0, \"total\": 186468, \"totalTestResults\": 186468, \"posNeg\": 186468, \"fips\": \"36\", \"deathIncrease\": 253.0, \"hospitalizedIncrease\": 1646.0, \"negativeIncrease\": 7124.0, \"positiveIncrease\": 6984.0, \"totalTestResultsIncrease\": 14108.0}, {\"date\": \"2020-03-29T00:00:00\", \"state\": \"CA\", \"positive\": 5708.0, \"negative\": 20549.0, \"pending\": 64400.0, \"hospitalizedCurrently\": 1034.0, \"hospitalizedCumulative\": 1034.0, \"inIcuCurrently\": 410.0, \"inIcuCumulative\": 410.0, \"onVentilatorCurrently\": null, \"onVentilatorCumulative\": null, \"recovered\": null, \"hash\": \"1b6fd0782f7e0f6178ea2f83a468c5d2471cc0d7\", \"dateChecked\": \"2020-03-29T20:00:00Z\", \"death\": 123.0, \"hospitalized\": 1034.0, \"total\": 90657, \"totalTestResults\": 26257, \"posNeg\": 26257, \"fips\": \"06\", \"deathIncrease\": 22.0, \"hospitalizedIncrease\": 0.0, \"negativeIncrease\": 0.0, \"positiveIncrease\": 1065.0, \"totalTestResultsIncrease\": 1065.0}, {\"date\": \"2020-03-29T00:00:00\", \"state\": \"NY\", \"positive\": 59513.0, \"negative\": 112847.0, \"pending\": null, \"hospitalizedCurrently\": 8503.0, \"hospitalizedCumulative\": 12075.0, \"inIcuCurrently\": 2037.0, \"inIcuCumulative\": 2037.0, \"onVentilatorCurrently\": null, \"onVentilatorCumulative\": null, \"recovered\": 3572.0, \"hash\": \"b5656122e28105ae4788a0d68eabb1ef68a06287\", \"dateChecked\": \"2020-03-29T20:00:00Z\", \"death\": 965.0, \"hospitalized\": 12075.0, \"total\": 172360, \"totalTestResults\": 172360, \"posNeg\": 172360, \"fips\": \"36\", \"deathIncrease\": 237.0, \"hospitalizedIncrease\": 2021.0, \"negativeIncrease\": 9231.0, \"positiveIncrease\": 7195.0, \"totalTestResultsIncrease\": 16426.0}, {\"date\": \"2020-03-28T00:00:00\", \"state\": \"CA\", \"positive\": 4643.0, \"negative\": 20549.0, \"pending\": 64400.0, \"hospitalizedCurrently\": 1034.0, \"hospitalizedCumulative\": 1034.0, \"inIcuCurrently\": 410.0, \"inIcuCumulative\": 410.0, \"onVentilatorCurrently\": null, \"onVentilatorCumulative\": null, \"recovered\": null, \"hash\": \"8c30beb89dd131ed8a1aacaa4d70b47e58810777\", \"dateChecked\": \"2020-03-28T20:00:00Z\", \"death\": 101.0, \"hospitalized\": 1034.0, \"total\": 89592, \"totalTestResults\": 25192, \"posNeg\": 25192, \"fips\": \"06\", \"deathIncrease\": 23.0, \"hospitalizedIncrease\": 288.0, \"negativeIncrease\": 3169.0, \"positiveIncrease\": 764.0, \"totalTestResultsIncrease\": 3933.0}, {\"date\": \"2020-03-28T00:00:00\", \"state\": \"NY\", \"positive\": 52318.0, \"negative\": 103616.0, \"pending\": null, \"hospitalizedCurrently\": 7328.0, \"hospitalizedCumulative\": 10054.0, \"inIcuCurrently\": 1755.0, \"inIcuCumulative\": 1755.0, \"onVentilatorCurrently\": null, \"onVentilatorCumulative\": null, \"recovered\": 2726.0, \"hash\": \"7592db95575a5d4ef226ff6014283d8d85a0db52\", \"dateChecked\": \"2020-03-28T20:00:00Z\", \"death\": 728.0, \"hospitalized\": 10054.0, \"total\": 155934, \"totalTestResults\": 155934, \"posNeg\": 155934, \"fips\": \"36\", \"deathIncrease\": 209.0, \"hospitalizedIncrease\": 1528.0, \"negativeIncrease\": 2498.0, \"positiveIncrease\": 7683.0, \"totalTestResultsIncrease\": 10181.0}, {\"date\": \"2020-03-27T00:00:00\", \"state\": \"CA\", \"positive\": 3879.0, \"negative\": 17380.0, \"pending\": 57400.0, \"hospitalizedCurrently\": 746.0, \"hospitalizedCumulative\": 746.0, \"inIcuCurrently\": 200.0, \"inIcuCumulative\": 200.0, \"onVentilatorCurrently\": null, \"onVentilatorCumulative\": null, \"recovered\": null, \"hash\": \"10bb2a3981dc15348851c537abdb117a3e09d2a3\", \"dateChecked\": \"2020-03-27T20:00:00Z\", \"death\": 78.0, \"hospitalized\": 746.0, \"total\": 78659, \"totalTestResults\": 21259, \"posNeg\": 21259, \"fips\": \"06\", \"deathIncrease\": 13.0, \"hospitalizedIncrease\": 746.0, \"negativeIncrease\": 0.0, \"positiveIncrease\": 873.0, \"totalTestResultsIncrease\": 873.0}, {\"date\": \"2020-03-27T00:00:00\", \"state\": \"NY\", \"positive\": 44635.0, \"negative\": 101118.0, \"pending\": null, \"hospitalizedCurrently\": 6481.0, \"hospitalizedCumulative\": 8526.0, \"inIcuCurrently\": 1583.0, \"inIcuCumulative\": 1583.0, \"onVentilatorCurrently\": null, \"onVentilatorCumulative\": null, \"recovered\": 2045.0, \"hash\": \"d7f2dd3fcfbabebfdaeaa0a19e5db38d94fb112a\", \"dateChecked\": \"2020-03-27T20:00:00Z\", \"death\": 519.0, \"hospitalized\": 8526.0, \"total\": 145753, \"totalTestResults\": 145753, \"posNeg\": 145753, \"fips\": \"36\", \"deathIncrease\": 134.0, \"hospitalizedIncrease\": 1682.0, \"negativeIncrease\": 16272.0, \"positiveIncrease\": 7377.0, \"totalTestResultsIncrease\": 23649.0}, {\"date\": \"2020-03-26T00:00:00\", \"state\": \"CA\", \"positive\": 3006.0, \"negative\": 17380.0, \"pending\": 57400.0, \"hospitalizedCurrently\": null, \"hospitalizedCumulative\": null, \"inIcuCurrently\": null, \"inIcuCumulative\": null, \"onVentilatorCurrently\": null, \"onVentilatorCumulative\": null, \"recovered\": null, \"hash\": \"d073989819811eaa4edd1a4f71a3716c44b653ac\", \"dateChecked\": \"2020-03-26T20:00:00Z\", \"death\": 65.0, \"hospitalized\": null, \"total\": 77786, \"totalTestResults\": 20386, \"posNeg\": 20386, \"fips\": \"06\", \"deathIncrease\": 12.0, \"hospitalizedIncrease\": 0.0, \"negativeIncrease\": 1459.0, \"positiveIncrease\": 651.0, \"totalTestResultsIncrease\": 2110.0}, {\"date\": \"2020-03-26T00:00:00\", \"state\": \"NY\", \"positive\": 37258.0, \"negative\": 84846.0, \"pending\": null, \"hospitalizedCurrently\": 5327.0, \"hospitalizedCumulative\": 6844.0, \"inIcuCurrently\": 1290.0, \"inIcuCumulative\": 1290.0, \"onVentilatorCurrently\": null, \"onVentilatorCumulative\": null, \"recovered\": null, \"hash\": \"c9e5180c39aab68a5662116651d17a05f4e4b966\", \"dateChecked\": \"2020-03-26T20:00:00Z\", \"death\": 385.0, \"hospitalized\": 6844.0, \"total\": 122104, \"totalTestResults\": 122104, \"posNeg\": 122104, \"fips\": \"36\", \"deathIncrease\": 100.0, \"hospitalizedIncrease\": 3039.0, \"negativeIncrease\": 12178.0, \"positiveIncrease\": 6447.0, \"totalTestResultsIncrease\": 18625.0}, {\"date\": \"2020-03-25T00:00:00\", \"state\": \"CA\", \"positive\": 2355.0, \"negative\": 15921.0, \"pending\": 48600.0, \"hospitalizedCurrently\": null, \"hospitalizedCumulative\": null, \"inIcuCurrently\": null, \"inIcuCumulative\": null, \"onVentilatorCurrently\": null, \"onVentilatorCumulative\": null, \"recovered\": null, \"hash\": \"8d9cf944b6bf56c413644ce7729ef18efa3d75a0\", \"dateChecked\": \"2020-03-25T20:00:00Z\", \"death\": 53.0, \"hospitalized\": null, \"total\": 66876, \"totalTestResults\": 18276, \"posNeg\": 18276, \"fips\": \"06\", \"deathIncrease\": 13.0, \"hospitalizedIncrease\": 0.0, \"negativeIncrease\": 2469.0, \"positiveIncrease\": 253.0, \"totalTestResultsIncrease\": 2722.0}, {\"date\": \"2020-03-25T00:00:00\", \"state\": \"NY\", \"positive\": 30811.0, \"negative\": 72668.0, \"pending\": null, \"hospitalizedCurrently\": null, \"hospitalizedCumulative\": 3805.0, \"inIcuCurrently\": null, \"inIcuCumulative\": null, \"onVentilatorCurrently\": null, \"onVentilatorCumulative\": null, \"recovered\": null, \"hash\": \"332b18596170cd3e35617cfba48a5723aa2ec8f3\", \"dateChecked\": \"2020-03-25T20:00:00Z\", \"death\": 285.0, \"hospitalized\": 3805.0, \"total\": 103479, \"totalTestResults\": 103479, \"posNeg\": 103479, \"fips\": \"36\", \"deathIncrease\": 75.0, \"hospitalizedIncrease\": 571.0, \"negativeIncrease\": 7063.0, \"positiveIncrease\": 5146.0, \"totalTestResultsIncrease\": 12209.0}, {\"date\": \"2020-03-24T00:00:00\", \"state\": \"CA\", \"positive\": 2102.0, \"negative\": 13452.0, \"pending\": 12100.0, \"hospitalizedCurrently\": null, \"hospitalizedCumulative\": null, \"inIcuCurrently\": null, \"inIcuCumulative\": null, \"onVentilatorCurrently\": null, \"onVentilatorCumulative\": null, \"recovered\": null, \"hash\": \"de4019ee1e7e99d093947ecd2a91c6093439f221\", \"dateChecked\": \"2020-03-24T20:00:00Z\", \"death\": 40.0, \"hospitalized\": null, \"total\": 27654, \"totalTestResults\": 15554, \"posNeg\": 15554, \"fips\": \"06\", \"deathIncrease\": 13.0, \"hospitalizedIncrease\": 0.0, \"negativeIncrease\": 885.0, \"positiveIncrease\": 369.0, \"totalTestResultsIncrease\": 1254.0}, {\"date\": \"2020-03-24T00:00:00\", \"state\": \"NY\", \"positive\": 25665.0, \"negative\": 65605.0, \"pending\": null, \"hospitalizedCurrently\": null, \"hospitalizedCumulative\": 3234.0, \"inIcuCurrently\": null, \"inIcuCumulative\": null, \"onVentilatorCurrently\": null, \"onVentilatorCumulative\": null, \"recovered\": null, \"hash\": \"ea3323c8187b8ff5574d3576f83791e01dd1521f\", \"dateChecked\": \"2020-03-24T20:00:00Z\", \"death\": 210.0, \"hospitalized\": 3234.0, \"total\": 91270, \"totalTestResults\": 91270, \"posNeg\": 91270, \"fips\": \"36\", \"deathIncrease\": 96.0, \"hospitalizedIncrease\": 599.0, \"negativeIncrease\": 8191.0, \"positiveIncrease\": 4790.0, \"totalTestResultsIncrease\": 12981.0}, {\"date\": \"2020-03-23T00:00:00\", \"state\": \"CA\", \"positive\": 1733.0, \"negative\": 12567.0, \"pending\": 12100.0, \"hospitalizedCurrently\": null, \"hospitalizedCumulative\": null, \"inIcuCurrently\": null, \"inIcuCumulative\": null, \"onVentilatorCurrently\": null, \"onVentilatorCumulative\": null, \"recovered\": null, \"hash\": \"71c982ee815f7305f8cc4c93014774584620fa5f\", \"dateChecked\": \"2020-03-23T20:00:00Z\", \"death\": 27.0, \"hospitalized\": null, \"total\": 26400, \"totalTestResults\": 14300, \"posNeg\": 14300, \"fips\": \"06\", \"deathIncrease\": 0.0, \"hospitalizedIncrease\": 0.0, \"negativeIncrease\": 1263.0, \"positiveIncrease\": 197.0, \"totalTestResultsIncrease\": 1460.0}, {\"date\": \"2020-03-23T00:00:00\", \"state\": \"NY\", \"positive\": 20875.0, \"negative\": 57414.0, \"pending\": null, \"hospitalizedCurrently\": null, \"hospitalizedCumulative\": 2635.0, \"inIcuCurrently\": null, \"inIcuCumulative\": null, \"onVentilatorCurrently\": null, \"onVentilatorCumulative\": null, \"recovered\": null, \"hash\": \"40440cdc2bc6ecd1d88040f01ebbdcb130a33257\", \"dateChecked\": \"2020-03-23T20:00:00Z\", \"death\": 114.0, \"hospitalized\": 2635.0, \"total\": 78289, \"totalTestResults\": 78289, \"posNeg\": 78289, \"fips\": \"36\", \"deathIncrease\": 0.0, \"hospitalizedIncrease\": 661.0, \"negativeIncrease\": 11181.0, \"positiveIncrease\": 5707.0, \"totalTestResultsIncrease\": 16888.0}, {\"date\": \"2020-03-22T00:00:00\", \"state\": \"CA\", \"positive\": 1536.0, \"negative\": 11304.0, \"pending\": null, \"hospitalizedCurrently\": null, \"hospitalizedCumulative\": null, \"inIcuCurrently\": null, \"inIcuCumulative\": null, \"onVentilatorCurrently\": null, \"onVentilatorCumulative\": null, \"recovered\": null, \"hash\": \"894c0795f019e9dad5fb2ea4b76464bd93ca011e\", \"dateChecked\": \"2020-03-22T20:00:00Z\", \"death\": 27.0, \"hospitalized\": null, \"total\": 12840, \"totalTestResults\": 12840, \"posNeg\": 12840, \"fips\": \"06\", \"deathIncrease\": 3.0, \"hospitalizedIncrease\": 0.0, \"negativeIncrease\": 55.0, \"positiveIncrease\": 257.0, \"totalTestResultsIncrease\": 312.0}, {\"date\": \"2020-03-22T00:00:00\", \"state\": \"NY\", \"positive\": 15168.0, \"negative\": 46233.0, \"pending\": null, \"hospitalizedCurrently\": null, \"hospitalizedCumulative\": 1974.0, \"inIcuCurrently\": null, \"inIcuCumulative\": null, \"onVentilatorCurrently\": null, \"onVentilatorCumulative\": null, \"recovered\": null, \"hash\": \"0df3f76e6407f511b0c5bf4f5647cce8f407250e\", \"dateChecked\": \"2020-03-22T20:00:00Z\", \"death\": 114.0, \"hospitalized\": 1974.0, \"total\": 61401, \"totalTestResults\": 61401, \"posNeg\": 61401, \"fips\": \"36\", \"deathIncrease\": 70.0, \"hospitalizedIncrease\": 371.0, \"negativeIncrease\": 11152.0, \"positiveIncrease\": 4812.0, \"totalTestResultsIncrease\": 15964.0}, {\"date\": \"2020-03-21T00:00:00\", \"state\": \"CA\", \"positive\": 1279.0, \"negative\": 11249.0, \"pending\": null, \"hospitalizedCurrently\": null, \"hospitalizedCumulative\": null, \"inIcuCurrently\": null, \"inIcuCumulative\": null, \"onVentilatorCurrently\": null, \"onVentilatorCumulative\": null, \"recovered\": null, \"hash\": \"49c4e45a8661e84906ca87575ab8d30e7c494b6c\", \"dateChecked\": \"2020-03-21T20:00:00Z\", \"death\": 24.0, \"hospitalized\": null, \"total\": 12528, \"totalTestResults\": 12528, \"posNeg\": 12528, \"fips\": \"06\", \"deathIncrease\": 4.0, \"hospitalizedIncrease\": 0.0, \"negativeIncrease\": 825.0, \"positiveIncrease\": 216.0, \"totalTestResultsIncrease\": 1041.0}, {\"date\": \"2020-03-21T00:00:00\", \"state\": \"NY\", \"positive\": 10356.0, \"negative\": 35081.0, \"pending\": null, \"hospitalizedCurrently\": null, \"hospitalizedCumulative\": 1603.0, \"inIcuCurrently\": null, \"inIcuCumulative\": null, \"onVentilatorCurrently\": null, \"onVentilatorCumulative\": null, \"recovered\": null, \"hash\": \"eb983c3fb4fc2d7f3c2c1250578379f502787c29\", \"dateChecked\": \"2020-03-21T20:00:00Z\", \"death\": 44.0, \"hospitalized\": 1603.0, \"total\": 45437, \"totalTestResults\": 45437, \"posNeg\": 45437, \"fips\": \"36\", \"deathIncrease\": 9.0, \"hospitalizedIncrease\": 1603.0, \"negativeIncrease\": 9756.0, \"positiveIncrease\": 3254.0, \"totalTestResultsIncrease\": 13010.0}, {\"date\": \"2020-03-20T00:00:00\", \"state\": \"CA\", \"positive\": 1063.0, \"negative\": 10424.0, \"pending\": null, \"hospitalizedCurrently\": null, \"hospitalizedCumulative\": null, \"inIcuCurrently\": null, \"inIcuCumulative\": null, \"onVentilatorCurrently\": null, \"onVentilatorCumulative\": null, \"recovered\": null, \"hash\": \"22cfcbb820f66309386b4bdfdf47a806dd894a62\", \"dateChecked\": \"2020-03-20T20:00:00Z\", \"death\": 20.0, \"hospitalized\": null, \"total\": 11487, \"totalTestResults\": 11487, \"posNeg\": 11487, \"fips\": \"06\", \"deathIncrease\": 2.0, \"hospitalizedIncrease\": 0.0, \"negativeIncrease\": 1637.0, \"positiveIncrease\": 139.0, \"totalTestResultsIncrease\": 1776.0}, {\"date\": \"2020-03-20T00:00:00\", \"state\": \"NY\", \"positive\": 7102.0, \"negative\": 25325.0, \"pending\": null, \"hospitalizedCurrently\": null, \"hospitalizedCumulative\": null, \"inIcuCurrently\": null, \"inIcuCumulative\": null, \"onVentilatorCurrently\": null, \"onVentilatorCumulative\": null, \"recovered\": null, \"hash\": \"5293b5c5920709d4f3cf66b901621a61a47d0d23\", \"dateChecked\": \"2020-03-20T20:00:00Z\", \"death\": 35.0, \"hospitalized\": null, \"total\": 32427, \"totalTestResults\": 32427, \"posNeg\": 32427, \"fips\": \"36\", \"deathIncrease\": 23.0, \"hospitalizedIncrease\": 0.0, \"negativeIncrease\": 7193.0, \"positiveIncrease\": 2950.0, \"totalTestResultsIncrease\": 10143.0}, {\"date\": \"2020-03-19T00:00:00\", \"state\": \"CA\", \"positive\": 924.0, \"negative\": 8787.0, \"pending\": null, \"hospitalizedCurrently\": null, \"hospitalizedCumulative\": null, \"inIcuCurrently\": null, \"inIcuCumulative\": null, \"onVentilatorCurrently\": null, \"onVentilatorCumulative\": null, \"recovered\": null, \"hash\": \"b9c67f8fde621d5bb8895c6a6fcbdcf8440ccf2a\", \"dateChecked\": \"2020-03-19T20:00:00Z\", \"death\": 18.0, \"hospitalized\": null, \"total\": 9711, \"totalTestResults\": 9711, \"posNeg\": 9711, \"fips\": \"06\", \"deathIncrease\": 5.0, \"hospitalizedIncrease\": 0.0, \"negativeIncrease\": 806.0, \"positiveIncrease\": 313.0, \"totalTestResultsIncrease\": 1119.0}, {\"date\": \"2020-03-19T00:00:00\", \"state\": \"NY\", \"positive\": 4152.0, \"negative\": 18132.0, \"pending\": null, \"hospitalizedCurrently\": null, \"hospitalizedCumulative\": null, \"inIcuCurrently\": null, \"inIcuCumulative\": null, \"onVentilatorCurrently\": null, \"onVentilatorCumulative\": null, \"recovered\": null, \"hash\": \"2eabc9b73139066e3613021b1e9c9deaf8af733c\", \"dateChecked\": \"2020-03-19T20:00:00Z\", \"death\": 12.0, \"hospitalized\": null, \"total\": 22284, \"totalTestResults\": 22284, \"posNeg\": 22284, \"fips\": \"36\", \"deathIncrease\": 0.0, \"hospitalizedIncrease\": 0.0, \"negativeIncrease\": 5917.0, \"positiveIncrease\": 1770.0, \"totalTestResultsIncrease\": 7687.0}, {\"date\": \"2020-03-18T00:00:00\", \"state\": \"CA\", \"positive\": 611.0, \"negative\": 7981.0, \"pending\": null, \"hospitalizedCurrently\": null, \"hospitalizedCumulative\": null, \"inIcuCurrently\": null, \"inIcuCumulative\": null, \"onVentilatorCurrently\": null, \"onVentilatorCumulative\": null, \"recovered\": null, \"hash\": \"646da42647f99037e2c2b31faf21a04c5b5ff197\", \"dateChecked\": \"2020-03-18T20:00:00Z\", \"death\": 13.0, \"hospitalized\": null, \"total\": 8592, \"totalTestResults\": 8592, \"posNeg\": 8592, \"fips\": \"06\", \"deathIncrease\": 2.0, \"hospitalizedIncrease\": 0.0, \"negativeIncrease\": 0.0, \"positiveIncrease\": 128.0, \"totalTestResultsIncrease\": 128.0}, {\"date\": \"2020-03-18T00:00:00\", \"state\": \"NY\", \"positive\": 2382.0, \"negative\": 12215.0, \"pending\": null, \"hospitalizedCurrently\": null, \"hospitalizedCumulative\": null, \"inIcuCurrently\": null, \"inIcuCumulative\": null, \"onVentilatorCurrently\": null, \"onVentilatorCumulative\": null, \"recovered\": null, \"hash\": \"65a08e6a0f81bd2c4bbc9988a17f0892d2ec4d35\", \"dateChecked\": \"2020-03-18T20:00:00Z\", \"death\": 12.0, \"hospitalized\": null, \"total\": 14597, \"totalTestResults\": 14597, \"posNeg\": 14597, \"fips\": \"36\", \"deathIncrease\": 5.0, \"hospitalizedIncrease\": 0.0, \"negativeIncrease\": 6709.0, \"positiveIncrease\": 682.0, \"totalTestResultsIncrease\": 7391.0}, {\"date\": \"2020-03-17T00:00:00\", \"state\": \"CA\", \"positive\": 483.0, \"negative\": 7981.0, \"pending\": null, \"hospitalizedCurrently\": null, \"hospitalizedCumulative\": null, \"inIcuCurrently\": null, \"inIcuCumulative\": null, \"onVentilatorCurrently\": null, \"onVentilatorCumulative\": null, \"recovered\": null, \"hash\": \"3a5a29b79b4583de68455525d065127db6a3e97b\", \"dateChecked\": \"2020-03-17T20:00:00Z\", \"death\": 11.0, \"hospitalized\": null, \"total\": 8464, \"totalTestResults\": 8464, \"posNeg\": 8464, \"fips\": \"06\", \"deathIncrease\": 5.0, \"hospitalizedIncrease\": 0.0, \"negativeIncrease\": 0.0, \"positiveIncrease\": 148.0, \"totalTestResultsIncrease\": 148.0}, {\"date\": \"2020-03-17T00:00:00\", \"state\": \"NY\", \"positive\": 1700.0, \"negative\": 5506.0, \"pending\": null, \"hospitalizedCurrently\": null, \"hospitalizedCumulative\": null, \"inIcuCurrently\": null, \"inIcuCumulative\": null, \"onVentilatorCurrently\": null, \"onVentilatorCumulative\": null, \"recovered\": null, \"hash\": \"a2d96e7a962926fa3165aef038360c097b6be4ce\", \"dateChecked\": \"2020-03-17T20:00:00Z\", \"death\": 7.0, \"hospitalized\": null, \"total\": 7206, \"totalTestResults\": 7206, \"posNeg\": 7206, \"fips\": \"36\", \"deathIncrease\": 0.0, \"hospitalizedIncrease\": 0.0, \"negativeIncrease\": 963.0, \"positiveIncrease\": 750.0, \"totalTestResultsIncrease\": 1713.0}, {\"date\": \"2020-03-16T00:00:00\", \"state\": \"CA\", \"positive\": 335.0, \"negative\": 7981.0, \"pending\": null, \"hospitalizedCurrently\": null, \"hospitalizedCumulative\": null, \"inIcuCurrently\": null, \"inIcuCumulative\": null, \"onVentilatorCurrently\": null, \"onVentilatorCumulative\": null, \"recovered\": null, \"hash\": \"ae22555d7ccc020a6fc6268f759c981a681af584\", \"dateChecked\": \"2020-03-16T20:00:00Z\", \"death\": 6.0, \"hospitalized\": null, \"total\": 8316, \"totalTestResults\": 8316, \"posNeg\": 8316, \"fips\": \"06\", \"deathIncrease\": 1.0, \"hospitalizedIncrease\": 0.0, \"negativeIncrease\": 7065.0, \"positiveIncrease\": 42.0, \"totalTestResultsIncrease\": 7107.0}, {\"date\": \"2020-03-16T00:00:00\", \"state\": \"NY\", \"positive\": 950.0, \"negative\": 4543.0, \"pending\": null, \"hospitalizedCurrently\": null, \"hospitalizedCumulative\": null, \"inIcuCurrently\": null, \"inIcuCumulative\": null, \"onVentilatorCurrently\": null, \"onVentilatorCumulative\": null, \"recovered\": null, \"hash\": \"994a65ba75be3681f76ff4612eb8fde85cff81cd\", \"dateChecked\": \"2020-03-16T20:00:00Z\", \"death\": 7.0, \"hospitalized\": null, \"total\": 5493, \"totalTestResults\": 5493, \"posNeg\": 5493, \"fips\": \"36\", \"deathIncrease\": 4.0, \"hospitalizedIncrease\": 0.0, \"negativeIncrease\": 0.0, \"positiveIncrease\": 221.0, \"totalTestResultsIncrease\": 221.0}, {\"date\": \"2020-03-15T00:00:00\", \"state\": \"CA\", \"positive\": 293.0, \"negative\": 916.0, \"pending\": null, \"hospitalizedCurrently\": null, \"hospitalizedCumulative\": null, \"inIcuCurrently\": null, \"inIcuCumulative\": null, \"onVentilatorCurrently\": null, \"onVentilatorCumulative\": null, \"recovered\": null, \"hash\": \"5e5e85687553cddbfc767524eedc40d04efeb98a\", \"dateChecked\": \"2020-03-15T20:00:00Z\", \"death\": 5.0, \"hospitalized\": null, \"total\": 1209, \"totalTestResults\": 1209, \"posNeg\": 1209, \"fips\": \"06\", \"deathIncrease\": 0.0, \"hospitalizedIncrease\": 0.0, \"negativeIncrease\": 0.0, \"positiveIncrease\": 41.0, \"totalTestResultsIncrease\": 41.0}, {\"date\": \"2020-03-15T00:00:00\", \"state\": \"NY\", \"positive\": 729.0, \"negative\": 4543.0, \"pending\": null, \"hospitalizedCurrently\": null, \"hospitalizedCumulative\": null, \"inIcuCurrently\": null, \"inIcuCumulative\": null, \"onVentilatorCurrently\": null, \"onVentilatorCumulative\": null, \"recovered\": null, \"hash\": \"963f632b5d1577cd5cf9b6c332a912c2fdebea16\", \"dateChecked\": \"2020-03-15T20:00:00Z\", \"death\": 3.0, \"hospitalized\": null, \"total\": 5272, \"totalTestResults\": 5272, \"posNeg\": 5272, \"fips\": \"36\", \"deathIncrease\": 3.0, \"hospitalizedIncrease\": 0.0, \"negativeIncrease\": 1764.0, \"positiveIncrease\": 205.0, \"totalTestResultsIncrease\": 1969.0}, {\"date\": \"2020-03-14T00:00:00\", \"state\": \"CA\", \"positive\": 252.0, \"negative\": 916.0, \"pending\": null, \"hospitalizedCurrently\": null, \"hospitalizedCumulative\": null, \"inIcuCurrently\": null, \"inIcuCumulative\": null, \"onVentilatorCurrently\": null, \"onVentilatorCumulative\": null, \"recovered\": null, \"hash\": \"bfe38009fc5e230d310f823f106a0947b1a2bce3\", \"dateChecked\": \"2020-03-14T20:00:00Z\", \"death\": 5.0, \"hospitalized\": null, \"total\": 1168, \"totalTestResults\": 1168, \"posNeg\": 1168, \"fips\": \"06\", \"deathIncrease\": 1.0, \"hospitalizedIncrease\": 0.0, \"negativeIncrease\": 0.0, \"positiveIncrease\": 50.0, \"totalTestResultsIncrease\": 50.0}, {\"date\": \"2020-03-14T00:00:00\", \"state\": \"NY\", \"positive\": 524.0, \"negative\": 2779.0, \"pending\": null, \"hospitalizedCurrently\": null, \"hospitalizedCumulative\": null, \"inIcuCurrently\": null, \"inIcuCumulative\": null, \"onVentilatorCurrently\": null, \"onVentilatorCumulative\": null, \"recovered\": null, \"hash\": \"f28c39ca671c26d022ff2556494ad8767765eb93\", \"dateChecked\": \"2020-03-14T20:00:00Z\", \"death\": null, \"hospitalized\": null, \"total\": 3303, \"totalTestResults\": 3303, \"posNeg\": 3303, \"fips\": \"36\", \"deathIncrease\": 0.0, \"hospitalizedIncrease\": 0.0, \"negativeIncrease\": 0.0, \"positiveIncrease\": 103.0, \"totalTestResultsIncrease\": 103.0}, {\"date\": \"2020-03-13T00:00:00\", \"state\": \"CA\", \"positive\": 202.0, \"negative\": 916.0, \"pending\": null, \"hospitalizedCurrently\": null, \"hospitalizedCumulative\": null, \"inIcuCurrently\": null, \"inIcuCumulative\": null, \"onVentilatorCurrently\": null, \"onVentilatorCumulative\": null, \"recovered\": null, \"hash\": \"bb817225b0e56a4c1051b2e6550b5ae85e06487c\", \"dateChecked\": \"2020-03-13T20:00:00Z\", \"death\": 4.0, \"hospitalized\": null, \"total\": 1118, \"totalTestResults\": 1118, \"posNeg\": 1118, \"fips\": \"06\", \"deathIncrease\": 0.0, \"hospitalizedIncrease\": 0.0, \"negativeIncrease\": 0.0, \"positiveIncrease\": 0.0, \"totalTestResultsIncrease\": 0.0}, {\"date\": \"2020-03-13T00:00:00\", \"state\": \"NY\", \"positive\": 421.0, \"negative\": 2779.0, \"pending\": null, \"hospitalizedCurrently\": null, \"hospitalizedCumulative\": null, \"inIcuCurrently\": null, \"inIcuCumulative\": null, \"onVentilatorCurrently\": null, \"onVentilatorCumulative\": null, \"recovered\": null, \"hash\": \"a0a0e2997c411014ef2cd98b9502387730f585c7\", \"dateChecked\": \"2020-03-13T20:00:00Z\", \"death\": null, \"hospitalized\": null, \"total\": 3200, \"totalTestResults\": 3200, \"posNeg\": 3200, \"fips\": \"36\", \"deathIncrease\": 0.0, \"hospitalizedIncrease\": 0.0, \"negativeIncrease\": 2687.0, \"positiveIncrease\": 205.0, \"totalTestResultsIncrease\": 2892.0}, {\"date\": \"2020-03-12T00:00:00\", \"state\": \"CA\", \"positive\": 202.0, \"negative\": 916.0, \"pending\": null, \"hospitalizedCurrently\": null, \"hospitalizedCumulative\": null, \"inIcuCurrently\": null, \"inIcuCumulative\": null, \"onVentilatorCurrently\": null, \"onVentilatorCumulative\": null, \"recovered\": null, \"hash\": \"8dd3541eb41a6171cc6bbf05632f8d9bb4570490\", \"dateChecked\": \"2020-03-12T20:00:00Z\", \"death\": 4.0, \"hospitalized\": null, \"total\": 1118, \"totalTestResults\": 1118, \"posNeg\": 1118, \"fips\": \"06\", \"deathIncrease\": 4.0, \"hospitalizedIncrease\": 0.0, \"negativeIncrease\": 0.0, \"positiveIncrease\": 45.0, \"totalTestResultsIncrease\": 45.0}, {\"date\": \"2020-03-12T00:00:00\", \"state\": \"NY\", \"positive\": 216.0, \"negative\": 92.0, \"pending\": null, \"hospitalizedCurrently\": null, \"hospitalizedCumulative\": null, \"inIcuCurrently\": null, \"inIcuCumulative\": null, \"onVentilatorCurrently\": null, \"onVentilatorCumulative\": null, \"recovered\": null, \"hash\": \"78ea2217b81c0eba25ec04b1196199ad81793ead\", \"dateChecked\": \"2020-03-12T20:00:00Z\", \"death\": null, \"hospitalized\": null, \"total\": 308, \"totalTestResults\": 308, \"posNeg\": 308, \"fips\": \"36\", \"deathIncrease\": 0.0, \"hospitalizedIncrease\": 0.0, \"negativeIncrease\": 0.0, \"positiveIncrease\": 0.0, \"totalTestResultsIncrease\": 0.0}, {\"date\": \"2020-03-11T00:00:00\", \"state\": \"CA\", \"positive\": 157.0, \"negative\": 916.0, \"pending\": null, \"hospitalizedCurrently\": null, \"hospitalizedCumulative\": null, \"inIcuCurrently\": null, \"inIcuCumulative\": null, \"onVentilatorCurrently\": null, \"onVentilatorCumulative\": null, \"recovered\": null, \"hash\": \"5b964b8b4ae1c9c7ef6daba3357363e3abc15fc2\", \"dateChecked\": \"2020-03-11T20:00:00Z\", \"death\": null, \"hospitalized\": null, \"total\": 1073, \"totalTestResults\": 1073, \"posNeg\": 1073, \"fips\": \"06\", \"deathIncrease\": 0.0, \"hospitalizedIncrease\": 0.0, \"negativeIncrease\": 226.0, \"positiveIncrease\": 24.0, \"totalTestResultsIncrease\": 250.0}, {\"date\": \"2020-03-11T00:00:00\", \"state\": \"NY\", \"positive\": 216.0, \"negative\": 92.0, \"pending\": null, \"hospitalizedCurrently\": null, \"hospitalizedCumulative\": null, \"inIcuCurrently\": null, \"inIcuCumulative\": null, \"onVentilatorCurrently\": null, \"onVentilatorCumulative\": null, \"recovered\": null, \"hash\": \"6fbded3854324c39522ab7fdb01d2087f60e2d2b\", \"dateChecked\": \"2020-03-11T20:00:00Z\", \"death\": null, \"hospitalized\": null, \"total\": 308, \"totalTestResults\": 308, \"posNeg\": 308, \"fips\": \"36\", \"deathIncrease\": 0.0, \"hospitalizedIncrease\": 0.0, \"negativeIncrease\": 0.0, \"positiveIncrease\": 43.0, \"totalTestResultsIncrease\": 43.0}, {\"date\": \"2020-03-10T00:00:00\", \"state\": \"CA\", \"positive\": 133.0, \"negative\": 690.0, \"pending\": null, \"hospitalizedCurrently\": null, \"hospitalizedCumulative\": null, \"inIcuCurrently\": null, \"inIcuCumulative\": null, \"onVentilatorCurrently\": null, \"onVentilatorCumulative\": null, \"recovered\": null, \"hash\": \"0d0ac26ba210e002c4cef8b50e8305df0d25daea\", \"dateChecked\": \"2020-03-10T20:00:00Z\", \"death\": null, \"hospitalized\": null, \"total\": 823, \"totalTestResults\": 823, \"posNeg\": 823, \"fips\": \"06\", \"deathIncrease\": 0.0, \"hospitalizedIncrease\": 0.0, \"negativeIncrease\": 0.0, \"positiveIncrease\": 19.0, \"totalTestResultsIncrease\": 19.0}, {\"date\": \"2020-03-10T00:00:00\", \"state\": \"NY\", \"positive\": 173.0, \"negative\": 92.0, \"pending\": null, \"hospitalizedCurrently\": null, \"hospitalizedCumulative\": null, \"inIcuCurrently\": null, \"inIcuCumulative\": null, \"onVentilatorCurrently\": null, \"onVentilatorCumulative\": null, \"recovered\": null, \"hash\": \"193f85893cecb99d063a03060bc4802d2d6458f1\", \"dateChecked\": \"2020-03-10T20:00:00Z\", \"death\": null, \"hospitalized\": null, \"total\": 265, \"totalTestResults\": 265, \"posNeg\": 265, \"fips\": \"36\", \"deathIncrease\": 0.0, \"hospitalizedIncrease\": 0.0, \"negativeIncrease\": 0.0, \"positiveIncrease\": 31.0, \"totalTestResultsIncrease\": 31.0}, {\"date\": \"2020-03-09T00:00:00\", \"state\": \"CA\", \"positive\": 114.0, \"negative\": 690.0, \"pending\": null, \"hospitalizedCurrently\": null, \"hospitalizedCumulative\": null, \"inIcuCurrently\": null, \"inIcuCumulative\": null, \"onVentilatorCurrently\": null, \"onVentilatorCumulative\": null, \"recovered\": null, \"hash\": \"6af63e3581f76d44b6446c5c221d5a2dd96f5a24\", \"dateChecked\": \"2020-03-09T20:00:00Z\", \"death\": null, \"hospitalized\": null, \"total\": 804, \"totalTestResults\": 804, \"posNeg\": 804, \"fips\": \"06\", \"deathIncrease\": 0.0, \"hospitalizedIncrease\": 0.0, \"negativeIncrease\": 228.0, \"positiveIncrease\": 26.0, \"totalTestResultsIncrease\": 254.0}, {\"date\": \"2020-03-09T00:00:00\", \"state\": \"NY\", \"positive\": 142.0, \"negative\": 92.0, \"pending\": null, \"hospitalizedCurrently\": null, \"hospitalizedCumulative\": null, \"inIcuCurrently\": null, \"inIcuCumulative\": null, \"onVentilatorCurrently\": null, \"onVentilatorCumulative\": null, \"recovered\": null, \"hash\": \"260a070d28ed40a35e8b31aca5f4ab3352dc9ba8\", \"dateChecked\": \"2020-03-09T20:00:00Z\", \"death\": null, \"hospitalized\": null, \"total\": 234, \"totalTestResults\": 234, \"posNeg\": 234, \"fips\": \"36\", \"deathIncrease\": 0.0, \"hospitalizedIncrease\": 0.0, \"negativeIncrease\": 0.0, \"positiveIncrease\": 37.0, \"totalTestResultsIncrease\": 37.0}, {\"date\": \"2020-03-08T00:00:00\", \"state\": \"CA\", \"positive\": 88.0, \"negative\": 462.0, \"pending\": null, \"hospitalizedCurrently\": null, \"hospitalizedCumulative\": null, \"inIcuCurrently\": null, \"inIcuCumulative\": null, \"onVentilatorCurrently\": null, \"onVentilatorCumulative\": null, \"recovered\": null, \"hash\": \"39ba303e6c33d759f657dfaa835f2714a49ecc37\", \"dateChecked\": \"2020-03-08T20:00:00Z\", \"death\": null, \"hospitalized\": null, \"total\": 550, \"totalTestResults\": 550, \"posNeg\": 550, \"fips\": \"06\", \"deathIncrease\": 0.0, \"hospitalizedIncrease\": 0.0, \"negativeIncrease\": 0.0, \"positiveIncrease\": 19.0, \"totalTestResultsIncrease\": 19.0}, {\"date\": \"2020-03-08T00:00:00\", \"state\": \"NY\", \"positive\": 105.0, \"negative\": 92.0, \"pending\": null, \"hospitalizedCurrently\": null, \"hospitalizedCumulative\": null, \"inIcuCurrently\": null, \"inIcuCumulative\": null, \"onVentilatorCurrently\": null, \"onVentilatorCumulative\": null, \"recovered\": null, \"hash\": \"f6d3b78f41cadeaf08e72f35692a9619d70aad07\", \"dateChecked\": \"2020-03-08T20:00:00Z\", \"death\": null, \"hospitalized\": null, \"total\": 197, \"totalTestResults\": 197, \"posNeg\": 197, \"fips\": \"36\", \"deathIncrease\": 0.0, \"hospitalizedIncrease\": 0.0, \"negativeIncrease\": 0.0, \"positiveIncrease\": 29.0, \"totalTestResultsIncrease\": 29.0}, {\"date\": \"2020-03-07T00:00:00\", \"state\": \"CA\", \"positive\": 69.0, \"negative\": 462.0, \"pending\": null, \"hospitalizedCurrently\": null, \"hospitalizedCumulative\": null, \"inIcuCurrently\": null, \"inIcuCumulative\": null, \"onVentilatorCurrently\": null, \"onVentilatorCumulative\": null, \"recovered\": null, \"hash\": \"311a213f5744c6b33147c107519218e8d9f55d23\", \"dateChecked\": \"2020-03-07T21:00:00Z\", \"death\": null, \"hospitalized\": null, \"total\": 531, \"totalTestResults\": 531, \"posNeg\": 531, \"fips\": \"06\", \"deathIncrease\": 0.0, \"hospitalizedIncrease\": 0.0, \"negativeIncrease\": 0.0, \"positiveIncrease\": 9.0, \"totalTestResultsIncrease\": 9.0}, {\"date\": \"2020-03-07T00:00:00\", \"state\": \"NY\", \"positive\": 76.0, \"negative\": 92.0, \"pending\": 236.0, \"hospitalizedCurrently\": null, \"hospitalizedCumulative\": null, \"inIcuCurrently\": null, \"inIcuCumulative\": null, \"onVentilatorCurrently\": null, \"onVentilatorCumulative\": null, \"recovered\": null, \"hash\": \"53a82f90b4d4a28a5b06248b1e4c78e9229312dd\", \"dateChecked\": \"2020-03-07T21:00:00Z\", \"death\": null, \"hospitalized\": null, \"total\": 404, \"totalTestResults\": 168, \"posNeg\": 168, \"fips\": \"36\", \"deathIncrease\": 0.0, \"hospitalizedIncrease\": 0.0, \"negativeIncrease\": 0.0, \"positiveIncrease\": 43.0, \"totalTestResultsIncrease\": 43.0}, {\"date\": \"2020-03-06T00:00:00\", \"state\": \"CA\", \"positive\": 60.0, \"negative\": 462.0, \"pending\": null, \"hospitalizedCurrently\": null, \"hospitalizedCumulative\": null, \"inIcuCurrently\": null, \"inIcuCumulative\": null, \"onVentilatorCurrently\": null, \"onVentilatorCumulative\": null, \"recovered\": null, \"hash\": \"ed5984edee3bf6ee9bc3b89bc15e52f3bdade592\", \"dateChecked\": \"2020-03-06T21:00:00Z\", \"death\": null, \"hospitalized\": null, \"total\": 522, \"totalTestResults\": 522, \"posNeg\": 522, \"fips\": \"06\", \"deathIncrease\": 0.0, \"hospitalizedIncrease\": 0.0, \"negativeIncrease\": 0.0, \"positiveIncrease\": 7.0, \"totalTestResultsIncrease\": 7.0}, {\"date\": \"2020-03-06T00:00:00\", \"state\": \"NY\", \"positive\": 33.0, \"negative\": 92.0, \"pending\": 236.0, \"hospitalizedCurrently\": null, \"hospitalizedCumulative\": null, \"inIcuCurrently\": null, \"inIcuCumulative\": null, \"onVentilatorCurrently\": null, \"onVentilatorCumulative\": null, \"recovered\": null, \"hash\": \"18e7306085561597629e7ffac110572b1aa9f9e5\", \"dateChecked\": \"2020-03-06T21:00:00Z\", \"death\": null, \"hospitalized\": null, \"total\": 361, \"totalTestResults\": 125, \"posNeg\": 125, \"fips\": \"36\", \"deathIncrease\": 0.0, \"hospitalizedIncrease\": 0.0, \"negativeIncrease\": 16.0, \"positiveIncrease\": 11.0, \"totalTestResultsIncrease\": 27.0}, {\"date\": \"2020-03-05T00:00:00\", \"state\": \"CA\", \"positive\": 53.0, \"negative\": 462.0, \"pending\": null, \"hospitalizedCurrently\": null, \"hospitalizedCumulative\": null, \"inIcuCurrently\": null, \"inIcuCumulative\": null, \"onVentilatorCurrently\": null, \"onVentilatorCumulative\": null, \"recovered\": null, \"hash\": \"ce0755ed64d8d97da631569ac60cacb5e301a000\", \"dateChecked\": \"2020-03-05T21:00:00Z\", \"death\": null, \"hospitalized\": null, \"total\": 515, \"totalTestResults\": 515, \"posNeg\": 515, \"fips\": \"06\", \"deathIncrease\": 0.0, \"hospitalizedIncrease\": 0.0, \"negativeIncrease\": 0.0, \"positiveIncrease\": 0.0, \"totalTestResultsIncrease\": 0.0}, {\"date\": \"2020-03-05T00:00:00\", \"state\": \"NY\", \"positive\": 22.0, \"negative\": 76.0, \"pending\": 24.0, \"hospitalizedCurrently\": null, \"hospitalizedCumulative\": null, \"inIcuCurrently\": null, \"inIcuCumulative\": null, \"onVentilatorCurrently\": null, \"onVentilatorCumulative\": null, \"recovered\": null, \"hash\": \"a5eb1a3c895ee3acd8c87b19363bab6d581b3933\", \"dateChecked\": \"2020-03-05T21:00:00Z\", \"death\": null, \"hospitalized\": null, \"total\": 122, \"totalTestResults\": 98, \"posNeg\": 98, \"fips\": \"36\", \"deathIncrease\": 0.0, \"hospitalizedIncrease\": 0.0, \"negativeIncrease\": 28.0, \"positiveIncrease\": 16.0, \"totalTestResultsIncrease\": 44.0}, {\"date\": \"2020-03-04T00:00:00\", \"state\": \"CA\", \"positive\": 53.0, \"negative\": 462.0, \"pending\": null, \"hospitalizedCurrently\": null, \"hospitalizedCumulative\": null, \"inIcuCurrently\": null, \"inIcuCumulative\": null, \"onVentilatorCurrently\": null, \"onVentilatorCumulative\": null, \"recovered\": null, \"hash\": \"e89c69dcaf7f202257af579a58f86c340eee886a\", \"dateChecked\": \"2020-03-04T21:00:00Z\", \"death\": null, \"hospitalized\": null, \"total\": 515, \"totalTestResults\": 515, \"posNeg\": 515, \"fips\": \"06\", \"deathIncrease\": null, \"hospitalizedIncrease\": null, \"negativeIncrease\": null, \"positiveIncrease\": null, \"totalTestResultsIncrease\": null}, {\"date\": \"2020-03-04T00:00:00\", \"state\": \"NY\", \"positive\": 6.0, \"negative\": 48.0, \"pending\": 24.0, \"hospitalizedCurrently\": null, \"hospitalizedCumulative\": null, \"inIcuCurrently\": null, \"inIcuCumulative\": null, \"onVentilatorCurrently\": null, \"onVentilatorCumulative\": null, \"recovered\": null, \"hash\": \"0e095e2b3db515b00d892276e6cac6912b1e0111\", \"dateChecked\": \"2020-03-04T21:00:00Z\", \"death\": null, \"hospitalized\": null, \"total\": 78, \"totalTestResults\": 54, \"posNeg\": 54, \"fips\": \"36\", \"deathIncrease\": null, \"hospitalizedIncrease\": null, \"negativeIncrease\": null, \"positiveIncrease\": null, \"totalTestResultsIncrease\": null}]}}, {\"mode\": \"vega-lite\"});\n",
       "</script>"
      ],
      "text/plain": [
       "alt.LayerChart(...)"
      ]
     },
     "execution_count": 8,
     "metadata": {},
     "output_type": "execute_result"
    }
   ],
   "source": [
    "#hide_input\n",
    "\n",
    "makeChart(positiveAdded)"
   ]
  },
  {
   "cell_type": "markdown",
   "metadata": {
    "colab_type": "text",
    "id": "1P7FwsFG-jI0",
    "papermill": {
     "duration": 0.011393,
     "end_time": "2020-04-04T12:09:22.113219",
     "exception": false,
     "start_time": "2020-04-04T12:09:22.101826",
     "status": "completed"
    },
    "tags": []
   },
   "source": [
    "{{'Data is sourced from [The COVID Tracking Project](https://covidtracking.com/).' | fndetail: 1}}"
   ]
  }
 ],
 "metadata": {
  "colab": {
   "collapsed_sections": [],
   "name": "COVID-19 in CA.ipynb",
   "provenance": []
  },
  "kernelspec": {
   "display_name": "Python 3",
   "name": "python3"
  },
  "language_info": {
   "codemirror_mode": {
    "name": "ipython",
    "version": 3
   },
   "file_extension": ".py",
   "mimetype": "text/x-python",
   "name": "python",
   "nbconvert_exporter": "python",
   "pygments_lexer": "ipython3",
   "version": "3.6.10"
  },
  "papermill": {
   "duration": 5.54894,
   "end_time": "2020-04-04T12:09:22.231284",
   "environment_variables": {},
   "exception": null,
   "input_path": "2020-04-03-COVID19-in-CA.ipynb",
   "output_path": "2020-04-03-COVID19-in-CA.ipynb",
   "parameters": {},
   "start_time": "2020-04-04T12:09:16.682344",
   "version": "2.1.0"
  }
 },
 "nbformat": 4,
 "nbformat_minor": 0
}